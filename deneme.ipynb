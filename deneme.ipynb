{
 "cells": [
  {
   "cell_type": "code",
   "execution_count": 1,
   "metadata": {},
   "outputs": [
    {
     "name": "stdout",
     "output_type": "stream",
     "text": [
      "../jupyter/data/dataset/bird\\bird-01.wav\n",
      "../jupyter/data/dataset/bird\\bird-02.wav\n",
      "../jupyter/data/dataset/bird\\bird-03.wav\n",
      "../jupyter/data/dataset/bird\\bird-04.wav\n",
      "../jupyter/data/dataset/bird\\bird-05.wav\n",
      "../jupyter/data/dataset/bird\\bird-06.wav\n",
      "../jupyter/data/dataset/bird\\bird-07.wav\n",
      "../jupyter/data/dataset/bird\\bird-08.wav\n",
      "../jupyter/data/dataset/bird\\bird-09.wav\n",
      "../jupyter/data/dataset/bird\\bird-10.wav\n",
      "../jupyter/data/dataset/bird\\bird-100.wav\n",
      "../jupyter/data/dataset/bird\\bird-101.wav\n",
      "../jupyter/data/dataset/bird\\bird-102.wav\n",
      "../jupyter/data/dataset/bird\\bird-103.wav\n",
      "../jupyter/data/dataset/bird\\bird-104.wav\n",
      "../jupyter/data/dataset/bird\\bird-105.wav\n",
      "../jupyter/data/dataset/bird\\bird-106.wav\n",
      "../jupyter/data/dataset/bird\\bird-107.wav\n",
      "../jupyter/data/dataset/bird\\bird-108.wav\n",
      "../jupyter/data/dataset/bird\\bird-109.wav\n",
      "../jupyter/data/dataset/bird\\bird-11.wav\n",
      "../jupyter/data/dataset/bird\\bird-110.wav\n",
      "../jupyter/data/dataset/bird\\bird-12.wav\n",
      "../jupyter/data/dataset/bird\\bird-13.wav\n",
      "../jupyter/data/dataset/bird\\bird-14.wav\n",
      "../jupyter/data/dataset/bird\\bird-15.wav\n",
      "../jupyter/data/dataset/bird\\bird-16.wav\n",
      "../jupyter/data/dataset/bird\\bird-17.wav\n",
      "../jupyter/data/dataset/bird\\bird-18.wav\n",
      "../jupyter/data/dataset/bird\\bird-19.wav\n",
      "../jupyter/data/dataset/bird\\bird-20.wav\n",
      "../jupyter/data/dataset/bird\\bird-21.wav\n",
      "../jupyter/data/dataset/bird\\bird-22.wav\n",
      "../jupyter/data/dataset/bird\\bird-23.wav\n",
      "../jupyter/data/dataset/bird\\bird-24.wav\n",
      "../jupyter/data/dataset/bird\\bird-25.wav\n",
      "../jupyter/data/dataset/bird\\bird-26.wav\n",
      "../jupyter/data/dataset/bird\\bird-27.wav\n",
      "../jupyter/data/dataset/bird\\bird-28.wav\n",
      "../jupyter/data/dataset/bird\\bird-29.wav\n",
      "../jupyter/data/dataset/bird\\bird-30.wav\n",
      "../jupyter/data/dataset/bird\\bird-31.wav\n",
      "../jupyter/data/dataset/bird\\bird-32.wav\n",
      "../jupyter/data/dataset/bird\\bird-33.wav\n",
      "../jupyter/data/dataset/bird\\bird-34.wav\n",
      "../jupyter/data/dataset/bird\\bird-35.wav\n",
      "../jupyter/data/dataset/bird\\bird-36.wav\n",
      "../jupyter/data/dataset/bird\\bird-37.wav\n",
      "../jupyter/data/dataset/bird\\bird-38.wav\n",
      "../jupyter/data/dataset/bird\\bird-39.wav\n",
      "../jupyter/data/dataset/bird\\bird-40.wav\n",
      "../jupyter/data/dataset/bird\\bird-41.wav\n",
      "../jupyter/data/dataset/bird\\bird-42.wav\n",
      "../jupyter/data/dataset/bird\\bird-43.wav\n",
      "../jupyter/data/dataset/bird\\bird-44.wav\n",
      "../jupyter/data/dataset/bird\\bird-45.wav\n",
      "../jupyter/data/dataset/bird\\bird-46.wav\n",
      "../jupyter/data/dataset/bird\\bird-47.wav\n",
      "../jupyter/data/dataset/bird\\bird-48.wav\n",
      "../jupyter/data/dataset/bird\\bird-49.wav\n",
      "../jupyter/data/dataset/bird\\bird-50.wav\n",
      "../jupyter/data/dataset/bird\\bird-51.wav\n",
      "../jupyter/data/dataset/bird\\bird-52.wav\n",
      "../jupyter/data/dataset/bird\\bird-53.wav\n",
      "../jupyter/data/dataset/bird\\bird-54.wav\n",
      "../jupyter/data/dataset/bird\\bird-55.wav\n",
      "../jupyter/data/dataset/bird\\bird-56.wav\n",
      "../jupyter/data/dataset/bird\\bird-57.wav\n",
      "../jupyter/data/dataset/bird\\bird-58.wav\n",
      "../jupyter/data/dataset/bird\\bird-59.wav\n",
      "../jupyter/data/dataset/bird\\bird-60.wav\n",
      "../jupyter/data/dataset/bird\\bird-61.wav\n",
      "../jupyter/data/dataset/bird\\bird-62.wav\n",
      "../jupyter/data/dataset/bird\\bird-63.wav\n",
      "../jupyter/data/dataset/bird\\bird-64.wav\n",
      "../jupyter/data/dataset/bird\\bird-65.wav\n",
      "../jupyter/data/dataset/bird\\bird-66.wav\n",
      "../jupyter/data/dataset/bird\\bird-67.wav\n",
      "../jupyter/data/dataset/bird\\bird-68.wav\n",
      "../jupyter/data/dataset/bird\\bird-69.wav\n",
      "../jupyter/data/dataset/bird\\bird-70.wav\n",
      "../jupyter/data/dataset/bird\\bird-71.wav\n",
      "../jupyter/data/dataset/bird\\bird-72.wav\n",
      "../jupyter/data/dataset/bird\\bird-73.wav\n",
      "../jupyter/data/dataset/bird\\bird-74.wav\n",
      "../jupyter/data/dataset/bird\\bird-75.wav\n",
      "../jupyter/data/dataset/bird\\bird-76.wav\n",
      "../jupyter/data/dataset/bird\\bird-77.wav\n",
      "../jupyter/data/dataset/bird\\bird-78.wav\n",
      "../jupyter/data/dataset/bird\\bird-79.wav\n",
      "../jupyter/data/dataset/bird\\bird-80.wav\n",
      "../jupyter/data/dataset/bird\\bird-81.wav\n",
      "../jupyter/data/dataset/bird\\bird-82.wav\n",
      "../jupyter/data/dataset/bird\\bird-83.wav\n",
      "../jupyter/data/dataset/bird\\bird-84.wav\n",
      "../jupyter/data/dataset/bird\\bird-85.wav\n",
      "../jupyter/data/dataset/bird\\bird-86.wav\n",
      "../jupyter/data/dataset/bird\\bird-87.wav\n",
      "../jupyter/data/dataset/bird\\bird-88.wav\n",
      "../jupyter/data/dataset/bird\\bird-89.wav\n",
      "../jupyter/data/dataset/bird\\bird-90.wav\n",
      "../jupyter/data/dataset/bird\\bird-91.wav\n",
      "../jupyter/data/dataset/bird\\bird-92.wav\n",
      "../jupyter/data/dataset/bird\\bird-93.wav\n",
      "../jupyter/data/dataset/bird\\bird-94.wav\n",
      "../jupyter/data/dataset/bird\\bird-95.wav\n",
      "../jupyter/data/dataset/bird\\bird-96.wav\n",
      "../jupyter/data/dataset/bird\\bird-97.wav\n",
      "../jupyter/data/dataset/bird\\bird-98.wav\n",
      "../jupyter/data/dataset/bird\\bird-99.wav\n",
      "../jupyter/data/dataset/cat\\cat-01.wav\n",
      "../jupyter/data/dataset/cat\\cat-02.wav\n",
      "../jupyter/data/dataset/cat\\cat-03.wav\n",
      "../jupyter/data/dataset/cat\\cat-04.wav\n",
      "../jupyter/data/dataset/cat\\cat-05.wav\n",
      "../jupyter/data/dataset/cat\\cat-06.wav\n",
      "../jupyter/data/dataset/cat\\cat-07.wav\n",
      "../jupyter/data/dataset/cat\\cat-08.wav\n",
      "../jupyter/data/dataset/cat\\cat-09.wav\n",
      "../jupyter/data/dataset/cat\\cat-10.wav\n",
      "../jupyter/data/dataset/cat\\cat-100.wav\n",
      "../jupyter/data/dataset/cat\\cat-101.wav\n",
      "../jupyter/data/dataset/cat\\cat-102.wav\n",
      "../jupyter/data/dataset/cat\\cat-103.wav\n",
      "../jupyter/data/dataset/cat\\cat-104.wav\n",
      "../jupyter/data/dataset/cat\\cat-105.wav\n",
      "../jupyter/data/dataset/cat\\cat-106.wav\n",
      "../jupyter/data/dataset/cat\\cat-107.wav\n",
      "../jupyter/data/dataset/cat\\cat-108.wav\n",
      "../jupyter/data/dataset/cat\\cat-109.wav\n",
      "../jupyter/data/dataset/cat\\cat-11.wav\n",
      "../jupyter/data/dataset/cat\\cat-110.wav\n",
      "../jupyter/data/dataset/cat\\cat-12.wav\n",
      "../jupyter/data/dataset/cat\\cat-13.wav\n",
      "../jupyter/data/dataset/cat\\cat-14.wav\n",
      "../jupyter/data/dataset/cat\\cat-15.wav\n",
      "../jupyter/data/dataset/cat\\cat-16.wav\n",
      "../jupyter/data/dataset/cat\\cat-17.wav\n",
      "../jupyter/data/dataset/cat\\cat-18.wav\n",
      "../jupyter/data/dataset/cat\\cat-19.wav\n",
      "../jupyter/data/dataset/cat\\cat-20.wav\n",
      "../jupyter/data/dataset/cat\\cat-21.wav\n",
      "../jupyter/data/dataset/cat\\cat-22.wav\n",
      "../jupyter/data/dataset/cat\\cat-23.wav\n",
      "../jupyter/data/dataset/cat\\cat-24.wav\n",
      "../jupyter/data/dataset/cat\\cat-25.wav\n",
      "../jupyter/data/dataset/cat\\cat-26.wav\n",
      "../jupyter/data/dataset/cat\\cat-27.wav\n",
      "../jupyter/data/dataset/cat\\cat-28.wav\n",
      "../jupyter/data/dataset/cat\\cat-29.wav\n",
      "../jupyter/data/dataset/cat\\cat-30.wav\n",
      "../jupyter/data/dataset/cat\\cat-31.wav\n",
      "../jupyter/data/dataset/cat\\cat-32.wav\n",
      "../jupyter/data/dataset/cat\\cat-33.wav\n",
      "../jupyter/data/dataset/cat\\cat-34.wav\n",
      "../jupyter/data/dataset/cat\\cat-35.wav\n",
      "../jupyter/data/dataset/cat\\cat-36.wav\n",
      "../jupyter/data/dataset/cat\\cat-37.wav\n",
      "../jupyter/data/dataset/cat\\cat-38.wav\n",
      "../jupyter/data/dataset/cat\\cat-39.wav\n",
      "../jupyter/data/dataset/cat\\cat-40.wav\n",
      "../jupyter/data/dataset/cat\\cat-41.wav\n",
      "../jupyter/data/dataset/cat\\cat-42.wav\n",
      "../jupyter/data/dataset/cat\\cat-43.wav\n",
      "../jupyter/data/dataset/cat\\cat-44.wav\n",
      "../jupyter/data/dataset/cat\\cat-45.wav\n",
      "../jupyter/data/dataset/cat\\cat-46.wav\n",
      "../jupyter/data/dataset/cat\\cat-47.wav\n",
      "../jupyter/data/dataset/cat\\cat-48.wav\n",
      "../jupyter/data/dataset/cat\\cat-49.wav\n",
      "../jupyter/data/dataset/cat\\cat-50.wav\n",
      "../jupyter/data/dataset/cat\\cat-51.wav\n",
      "../jupyter/data/dataset/cat\\cat-52.wav\n",
      "../jupyter/data/dataset/cat\\cat-53.wav\n",
      "../jupyter/data/dataset/cat\\cat-54.wav\n",
      "../jupyter/data/dataset/cat\\cat-55.wav\n",
      "../jupyter/data/dataset/cat\\cat-56.wav\n",
      "../jupyter/data/dataset/cat\\cat-57.wav\n",
      "../jupyter/data/dataset/cat\\cat-58.wav\n",
      "../jupyter/data/dataset/cat\\cat-59.wav\n",
      "../jupyter/data/dataset/cat\\cat-60.wav\n",
      "../jupyter/data/dataset/cat\\cat-61.wav\n",
      "../jupyter/data/dataset/cat\\cat-62.wav\n",
      "../jupyter/data/dataset/cat\\cat-63.wav\n",
      "../jupyter/data/dataset/cat\\cat-64.wav\n",
      "../jupyter/data/dataset/cat\\cat-65.wav\n",
      "../jupyter/data/dataset/cat\\cat-66.wav\n",
      "../jupyter/data/dataset/cat\\cat-67.wav\n",
      "../jupyter/data/dataset/cat\\cat-68.wav\n",
      "../jupyter/data/dataset/cat\\cat-69.wav\n",
      "../jupyter/data/dataset/cat\\cat-70.wav\n",
      "../jupyter/data/dataset/cat\\cat-71.wav\n",
      "../jupyter/data/dataset/cat\\cat-72.wav\n",
      "../jupyter/data/dataset/cat\\cat-73.wav\n",
      "../jupyter/data/dataset/cat\\cat-74.wav\n",
      "../jupyter/data/dataset/cat\\cat-75.wav\n",
      "../jupyter/data/dataset/cat\\cat-76.wav\n",
      "../jupyter/data/dataset/cat\\cat-77.wav\n",
      "../jupyter/data/dataset/cat\\cat-78.wav\n",
      "../jupyter/data/dataset/cat\\cat-79.wav\n",
      "../jupyter/data/dataset/cat\\cat-80.wav\n",
      "../jupyter/data/dataset/cat\\cat-81.wav\n",
      "../jupyter/data/dataset/cat\\cat-82.wav\n",
      "../jupyter/data/dataset/cat\\cat-83.wav\n",
      "../jupyter/data/dataset/cat\\cat-84.wav\n",
      "../jupyter/data/dataset/cat\\cat-85.wav\n",
      "../jupyter/data/dataset/cat\\cat-86.wav\n",
      "../jupyter/data/dataset/cat\\cat-87.wav\n",
      "../jupyter/data/dataset/cat\\cat-88.wav\n",
      "../jupyter/data/dataset/cat\\cat-89.wav\n",
      "../jupyter/data/dataset/cat\\cat-90.wav\n",
      "../jupyter/data/dataset/cat\\cat-91.wav\n",
      "../jupyter/data/dataset/cat\\cat-92.wav\n",
      "../jupyter/data/dataset/cat\\cat-93.wav\n",
      "../jupyter/data/dataset/cat\\cat-94.wav\n",
      "../jupyter/data/dataset/cat\\cat-95.wav\n",
      "../jupyter/data/dataset/cat\\cat-96.wav\n",
      "../jupyter/data/dataset/cat\\cat-97.wav\n",
      "../jupyter/data/dataset/cat\\cat-98.wav\n",
      "../jupyter/data/dataset/cat\\cat-99.wav\n",
      "../jupyter/data/dataset/dog\\dog-01.wav\n",
      "../jupyter/data/dataset/dog\\dog-02.wav\n",
      "../jupyter/data/dataset/dog\\dog-03.wav\n",
      "../jupyter/data/dataset/dog\\dog-04.wav\n",
      "../jupyter/data/dataset/dog\\dog-05.wav\n",
      "../jupyter/data/dataset/dog\\dog-06.wav\n",
      "../jupyter/data/dataset/dog\\dog-07.wav\n",
      "../jupyter/data/dataset/dog\\dog-08.wav\n",
      "../jupyter/data/dataset/dog\\dog-09.wav\n",
      "../jupyter/data/dataset/dog\\dog-10.wav\n",
      "../jupyter/data/dataset/dog\\dog-100.wav\n",
      "../jupyter/data/dataset/dog\\dog-101.wav\n",
      "../jupyter/data/dataset/dog\\dog-102.wav\n",
      "../jupyter/data/dataset/dog\\dog-103.wav\n",
      "../jupyter/data/dataset/dog\\dog-104.wav\n",
      "../jupyter/data/dataset/dog\\dog-105.wav\n",
      "../jupyter/data/dataset/dog\\dog-106.wav\n",
      "../jupyter/data/dataset/dog\\dog-107.wav\n",
      "../jupyter/data/dataset/dog\\dog-108.wav\n",
      "../jupyter/data/dataset/dog\\dog-109.wav\n",
      "../jupyter/data/dataset/dog\\dog-11.wav\n",
      "../jupyter/data/dataset/dog\\dog-110.wav\n",
      "../jupyter/data/dataset/dog\\dog-12.wav\n",
      "../jupyter/data/dataset/dog\\dog-13.wav\n",
      "../jupyter/data/dataset/dog\\dog-14.wav\n",
      "../jupyter/data/dataset/dog\\dog-15.wav\n",
      "../jupyter/data/dataset/dog\\dog-16.wav\n",
      "../jupyter/data/dataset/dog\\dog-17.wav\n",
      "../jupyter/data/dataset/dog\\dog-18.wav\n",
      "../jupyter/data/dataset/dog\\dog-19.wav\n",
      "../jupyter/data/dataset/dog\\dog-20.wav\n",
      "../jupyter/data/dataset/dog\\dog-21.wav\n",
      "../jupyter/data/dataset/dog\\dog-22.wav\n",
      "../jupyter/data/dataset/dog\\dog-23.wav\n",
      "../jupyter/data/dataset/dog\\dog-24.wav\n",
      "../jupyter/data/dataset/dog\\dog-25.wav\n",
      "../jupyter/data/dataset/dog\\dog-26.wav\n",
      "../jupyter/data/dataset/dog\\dog-27.wav\n",
      "../jupyter/data/dataset/dog\\dog-28.wav\n",
      "../jupyter/data/dataset/dog\\dog-29.wav\n",
      "../jupyter/data/dataset/dog\\dog-30.wav\n",
      "../jupyter/data/dataset/dog\\dog-31.wav\n",
      "../jupyter/data/dataset/dog\\dog-32.wav\n",
      "../jupyter/data/dataset/dog\\dog-33.wav\n",
      "../jupyter/data/dataset/dog\\dog-34.wav\n",
      "../jupyter/data/dataset/dog\\dog-35.wav\n",
      "../jupyter/data/dataset/dog\\dog-36.wav\n",
      "../jupyter/data/dataset/dog\\dog-37.wav\n",
      "../jupyter/data/dataset/dog\\dog-38.wav\n",
      "../jupyter/data/dataset/dog\\dog-39.wav\n",
      "../jupyter/data/dataset/dog\\dog-40.wav\n",
      "../jupyter/data/dataset/dog\\dog-41.wav\n",
      "../jupyter/data/dataset/dog\\dog-42.wav\n",
      "../jupyter/data/dataset/dog\\dog-43.wav\n",
      "../jupyter/data/dataset/dog\\dog-44.wav\n",
      "../jupyter/data/dataset/dog\\dog-45.wav\n",
      "../jupyter/data/dataset/dog\\dog-46.wav\n",
      "../jupyter/data/dataset/dog\\dog-47.wav\n",
      "../jupyter/data/dataset/dog\\dog-48.wav\n",
      "../jupyter/data/dataset/dog\\dog-49.wav\n",
      "../jupyter/data/dataset/dog\\dog-50.wav\n",
      "../jupyter/data/dataset/dog\\dog-51.wav\n",
      "../jupyter/data/dataset/dog\\dog-52.wav\n",
      "../jupyter/data/dataset/dog\\dog-53.wav\n",
      "../jupyter/data/dataset/dog\\dog-54.wav\n",
      "../jupyter/data/dataset/dog\\dog-55.wav\n",
      "../jupyter/data/dataset/dog\\dog-56.wav\n",
      "../jupyter/data/dataset/dog\\dog-57.wav\n",
      "../jupyter/data/dataset/dog\\dog-58.wav\n",
      "../jupyter/data/dataset/dog\\dog-59.wav\n",
      "../jupyter/data/dataset/dog\\dog-60.wav\n",
      "../jupyter/data/dataset/dog\\dog-61.wav\n",
      "../jupyter/data/dataset/dog\\dog-62.wav\n",
      "../jupyter/data/dataset/dog\\dog-63.wav\n",
      "../jupyter/data/dataset/dog\\dog-64.wav\n",
      "../jupyter/data/dataset/dog\\dog-65.wav\n",
      "../jupyter/data/dataset/dog\\dog-66.wav\n",
      "../jupyter/data/dataset/dog\\dog-67.wav\n",
      "../jupyter/data/dataset/dog\\dog-68.wav\n",
      "../jupyter/data/dataset/dog\\dog-69.wav\n",
      "../jupyter/data/dataset/dog\\dog-70.wav\n",
      "../jupyter/data/dataset/dog\\dog-71.wav\n",
      "../jupyter/data/dataset/dog\\dog-72.wav\n",
      "../jupyter/data/dataset/dog\\dog-73.wav\n",
      "../jupyter/data/dataset/dog\\dog-74.wav\n",
      "../jupyter/data/dataset/dog\\dog-75.wav\n",
      "../jupyter/data/dataset/dog\\dog-76.wav\n",
      "../jupyter/data/dataset/dog\\dog-77.wav\n",
      "../jupyter/data/dataset/dog\\dog-78.wav\n",
      "../jupyter/data/dataset/dog\\dog-79.wav\n",
      "../jupyter/data/dataset/dog\\dog-80.wav\n",
      "../jupyter/data/dataset/dog\\dog-81.wav\n",
      "../jupyter/data/dataset/dog\\dog-82.wav\n",
      "../jupyter/data/dataset/dog\\dog-83.wav\n",
      "../jupyter/data/dataset/dog\\dog-84.wav\n",
      "../jupyter/data/dataset/dog\\dog-85.wav\n",
      "../jupyter/data/dataset/dog\\dog-86.wav\n",
      "../jupyter/data/dataset/dog\\dog-87.wav\n",
      "../jupyter/data/dataset/dog\\dog-88.wav\n",
      "../jupyter/data/dataset/dog\\dog-89.wav\n",
      "../jupyter/data/dataset/dog\\dog-90.wav\n",
      "../jupyter/data/dataset/dog\\dog-91.wav\n",
      "../jupyter/data/dataset/dog\\dog-92.wav\n",
      "../jupyter/data/dataset/dog\\dog-93.wav\n",
      "../jupyter/data/dataset/dog\\dog-94.wav\n",
      "../jupyter/data/dataset/dog\\dog-95.wav\n",
      "../jupyter/data/dataset/dog\\dog-96.wav\n",
      "../jupyter/data/dataset/dog\\dog-97.wav\n",
      "../jupyter/data/dataset/dog\\dog-98.wav\n",
      "../jupyter/data/dataset/dog\\dog-99.wav\n",
      "../jupyter/data/dataset/housefly\\housefly-01.wav\n",
      "../jupyter/data/dataset/housefly\\housefly-02.wav\n",
      "../jupyter/data/dataset/housefly\\housefly-03.wav\n",
      "../jupyter/data/dataset/housefly\\housefly-04.wav\n",
      "../jupyter/data/dataset/housefly\\housefly-05.wav\n",
      "../jupyter/data/dataset/housefly\\housefly-06.wav\n",
      "../jupyter/data/dataset/housefly\\housefly-07.wav\n",
      "../jupyter/data/dataset/housefly\\housefly-08.wav\n",
      "../jupyter/data/dataset/housefly\\housefly-09.wav\n",
      "../jupyter/data/dataset/housefly\\housefly-10.wav\n",
      "../jupyter/data/dataset/housefly\\housefly-100.wav\n",
      "../jupyter/data/dataset/housefly\\housefly-101.wav\n",
      "../jupyter/data/dataset/housefly\\housefly-102.wav\n",
      "../jupyter/data/dataset/housefly\\housefly-103.wav\n",
      "../jupyter/data/dataset/housefly\\housefly-104.wav\n",
      "../jupyter/data/dataset/housefly\\housefly-105.wav\n",
      "../jupyter/data/dataset/housefly\\housefly-106.wav\n",
      "../jupyter/data/dataset/housefly\\housefly-107.wav\n",
      "../jupyter/data/dataset/housefly\\housefly-108.wav\n",
      "../jupyter/data/dataset/housefly\\housefly-109.wav\n",
      "../jupyter/data/dataset/housefly\\housefly-11.wav\n",
      "../jupyter/data/dataset/housefly\\housefly-110.wav\n",
      "../jupyter/data/dataset/housefly\\housefly-12.wav\n",
      "../jupyter/data/dataset/housefly\\housefly-13.wav\n",
      "../jupyter/data/dataset/housefly\\housefly-14.wav\n",
      "../jupyter/data/dataset/housefly\\housefly-15.wav\n",
      "../jupyter/data/dataset/housefly\\housefly-16.wav\n",
      "../jupyter/data/dataset/housefly\\housefly-17.wav\n",
      "../jupyter/data/dataset/housefly\\housefly-18.wav\n",
      "../jupyter/data/dataset/housefly\\housefly-19.wav\n",
      "../jupyter/data/dataset/housefly\\housefly-20.wav\n",
      "../jupyter/data/dataset/housefly\\housefly-21.wav\n",
      "../jupyter/data/dataset/housefly\\housefly-22.wav\n",
      "../jupyter/data/dataset/housefly\\housefly-23.wav\n",
      "../jupyter/data/dataset/housefly\\housefly-24.wav\n",
      "../jupyter/data/dataset/housefly\\housefly-25.wav\n",
      "../jupyter/data/dataset/housefly\\housefly-26.wav\n",
      "../jupyter/data/dataset/housefly\\housefly-27.wav\n",
      "../jupyter/data/dataset/housefly\\housefly-28.wav\n",
      "../jupyter/data/dataset/housefly\\housefly-29.wav\n",
      "../jupyter/data/dataset/housefly\\housefly-30.wav\n",
      "../jupyter/data/dataset/housefly\\housefly-31.wav\n",
      "../jupyter/data/dataset/housefly\\housefly-32.wav\n",
      "../jupyter/data/dataset/housefly\\housefly-33.wav\n",
      "../jupyter/data/dataset/housefly\\housefly-34.wav\n",
      "../jupyter/data/dataset/housefly\\housefly-35.wav\n",
      "../jupyter/data/dataset/housefly\\housefly-36.wav\n",
      "../jupyter/data/dataset/housefly\\housefly-37.wav\n",
      "../jupyter/data/dataset/housefly\\housefly-38.wav\n",
      "../jupyter/data/dataset/housefly\\housefly-39.wav\n",
      "../jupyter/data/dataset/housefly\\housefly-40.wav\n",
      "../jupyter/data/dataset/housefly\\housefly-41.wav\n",
      "../jupyter/data/dataset/housefly\\housefly-42.wav\n",
      "../jupyter/data/dataset/housefly\\housefly-43.wav\n",
      "../jupyter/data/dataset/housefly\\housefly-44.wav\n",
      "../jupyter/data/dataset/housefly\\housefly-45.wav\n",
      "../jupyter/data/dataset/housefly\\housefly-46.wav\n",
      "../jupyter/data/dataset/housefly\\housefly-47.wav\n",
      "../jupyter/data/dataset/housefly\\housefly-48.wav\n",
      "../jupyter/data/dataset/housefly\\housefly-49.wav\n",
      "../jupyter/data/dataset/housefly\\housefly-50.wav\n",
      "../jupyter/data/dataset/housefly\\housefly-51.wav\n",
      "../jupyter/data/dataset/housefly\\housefly-52.wav\n",
      "../jupyter/data/dataset/housefly\\housefly-53.wav\n",
      "../jupyter/data/dataset/housefly\\housefly-54.wav\n",
      "../jupyter/data/dataset/housefly\\housefly-55.wav\n",
      "../jupyter/data/dataset/housefly\\housefly-56.wav\n",
      "../jupyter/data/dataset/housefly\\housefly-57.wav\n",
      "../jupyter/data/dataset/housefly\\housefly-58.wav\n",
      "../jupyter/data/dataset/housefly\\housefly-59.wav\n",
      "../jupyter/data/dataset/housefly\\housefly-60.wav\n",
      "../jupyter/data/dataset/housefly\\housefly-61.wav\n",
      "../jupyter/data/dataset/housefly\\housefly-62.wav\n",
      "../jupyter/data/dataset/housefly\\housefly-63.wav\n",
      "../jupyter/data/dataset/housefly\\housefly-64.wav\n",
      "../jupyter/data/dataset/housefly\\housefly-65.wav\n",
      "../jupyter/data/dataset/housefly\\housefly-66.wav\n",
      "../jupyter/data/dataset/housefly\\housefly-67.wav\n",
      "../jupyter/data/dataset/housefly\\housefly-68.wav\n",
      "../jupyter/data/dataset/housefly\\housefly-69.wav\n",
      "../jupyter/data/dataset/housefly\\housefly-70.wav\n",
      "../jupyter/data/dataset/housefly\\housefly-71.wav\n",
      "../jupyter/data/dataset/housefly\\housefly-72.wav\n",
      "../jupyter/data/dataset/housefly\\housefly-73.wav\n",
      "../jupyter/data/dataset/housefly\\housefly-74.wav\n",
      "../jupyter/data/dataset/housefly\\housefly-75.wav\n",
      "../jupyter/data/dataset/housefly\\housefly-76.wav\n",
      "../jupyter/data/dataset/housefly\\housefly-77.wav\n",
      "../jupyter/data/dataset/housefly\\housefly-78.wav\n",
      "../jupyter/data/dataset/housefly\\housefly-79.wav\n",
      "../jupyter/data/dataset/housefly\\housefly-80.wav\n",
      "../jupyter/data/dataset/housefly\\housefly-81.wav\n",
      "../jupyter/data/dataset/housefly\\housefly-82.wav\n",
      "../jupyter/data/dataset/housefly\\housefly-83.wav\n",
      "../jupyter/data/dataset/housefly\\housefly-84.wav\n",
      "../jupyter/data/dataset/housefly\\housefly-85.wav\n",
      "../jupyter/data/dataset/housefly\\housefly-86.wav\n",
      "../jupyter/data/dataset/housefly\\housefly-87.wav\n",
      "../jupyter/data/dataset/housefly\\housefly-88.wav\n",
      "../jupyter/data/dataset/housefly\\housefly-89.wav\n",
      "../jupyter/data/dataset/housefly\\housefly-90.wav\n",
      "../jupyter/data/dataset/housefly\\housefly-91.wav\n",
      "../jupyter/data/dataset/housefly\\housefly-92.wav\n",
      "../jupyter/data/dataset/housefly\\housefly-93.wav\n",
      "../jupyter/data/dataset/housefly\\housefly-94.wav\n",
      "../jupyter/data/dataset/housefly\\housefly-95.wav\n",
      "../jupyter/data/dataset/housefly\\housefly-96.wav\n",
      "../jupyter/data/dataset/housefly\\housefly-97.wav\n",
      "../jupyter/data/dataset/housefly\\housefly-98.wav\n",
      "../jupyter/data/dataset/housefly\\housefly-99.wav\n",
      "../jupyter/data/dataset/sheep\\sheep-01.wav\n",
      "../jupyter/data/dataset/sheep\\sheep-02.wav\n",
      "../jupyter/data/dataset/sheep\\sheep-03.wav\n",
      "../jupyter/data/dataset/sheep\\sheep-04.wav\n",
      "../jupyter/data/dataset/sheep\\sheep-05.wav\n",
      "../jupyter/data/dataset/sheep\\sheep-06.wav\n",
      "../jupyter/data/dataset/sheep\\sheep-07.wav\n",
      "../jupyter/data/dataset/sheep\\sheep-08.wav\n",
      "../jupyter/data/dataset/sheep\\sheep-09.wav\n",
      "../jupyter/data/dataset/sheep\\sheep-10.wav\n",
      "../jupyter/data/dataset/sheep\\sheep-100.wav\n",
      "../jupyter/data/dataset/sheep\\sheep-101.wav\n",
      "../jupyter/data/dataset/sheep\\sheep-102.wav\n",
      "../jupyter/data/dataset/sheep\\sheep-103.wav\n",
      "../jupyter/data/dataset/sheep\\sheep-104.wav\n",
      "../jupyter/data/dataset/sheep\\sheep-105.wav\n",
      "../jupyter/data/dataset/sheep\\sheep-106.wav\n",
      "../jupyter/data/dataset/sheep\\sheep-107.wav\n",
      "../jupyter/data/dataset/sheep\\sheep-108.wav\n",
      "../jupyter/data/dataset/sheep\\sheep-109.wav\n",
      "../jupyter/data/dataset/sheep\\sheep-11.wav\n",
      "../jupyter/data/dataset/sheep\\sheep-110.wav\n",
      "../jupyter/data/dataset/sheep\\sheep-12.wav\n",
      "../jupyter/data/dataset/sheep\\sheep-13.wav\n",
      "../jupyter/data/dataset/sheep\\sheep-14.wav\n",
      "../jupyter/data/dataset/sheep\\sheep-15.wav\n",
      "../jupyter/data/dataset/sheep\\sheep-16.wav\n",
      "../jupyter/data/dataset/sheep\\sheep-17.wav\n",
      "../jupyter/data/dataset/sheep\\sheep-18.wav\n",
      "../jupyter/data/dataset/sheep\\sheep-19.wav\n",
      "../jupyter/data/dataset/sheep\\sheep-20.wav\n",
      "../jupyter/data/dataset/sheep\\sheep-21.wav\n",
      "../jupyter/data/dataset/sheep\\sheep-22.wav\n",
      "../jupyter/data/dataset/sheep\\sheep-23.wav\n",
      "../jupyter/data/dataset/sheep\\sheep-24.wav\n",
      "../jupyter/data/dataset/sheep\\sheep-25.wav\n",
      "../jupyter/data/dataset/sheep\\sheep-26.wav\n",
      "../jupyter/data/dataset/sheep\\sheep-27.wav\n",
      "../jupyter/data/dataset/sheep\\sheep-28.wav\n",
      "../jupyter/data/dataset/sheep\\sheep-29.wav\n",
      "../jupyter/data/dataset/sheep\\sheep-30.wav\n",
      "../jupyter/data/dataset/sheep\\sheep-31.wav\n",
      "../jupyter/data/dataset/sheep\\sheep-32.wav\n",
      "../jupyter/data/dataset/sheep\\sheep-33.wav\n",
      "../jupyter/data/dataset/sheep\\sheep-34.wav\n",
      "../jupyter/data/dataset/sheep\\sheep-35.wav\n",
      "../jupyter/data/dataset/sheep\\sheep-36.wav\n",
      "../jupyter/data/dataset/sheep\\sheep-37.wav\n",
      "../jupyter/data/dataset/sheep\\sheep-38.wav\n",
      "../jupyter/data/dataset/sheep\\sheep-39.wav\n",
      "../jupyter/data/dataset/sheep\\sheep-40.wav\n",
      "../jupyter/data/dataset/sheep\\sheep-41.wav\n",
      "../jupyter/data/dataset/sheep\\sheep-42.wav\n",
      "../jupyter/data/dataset/sheep\\sheep-43.wav\n",
      "../jupyter/data/dataset/sheep\\sheep-44.wav\n",
      "../jupyter/data/dataset/sheep\\sheep-45.wav\n",
      "../jupyter/data/dataset/sheep\\sheep-46.wav\n",
      "../jupyter/data/dataset/sheep\\sheep-47.wav\n",
      "../jupyter/data/dataset/sheep\\sheep-48.wav\n",
      "../jupyter/data/dataset/sheep\\sheep-49.wav\n",
      "../jupyter/data/dataset/sheep\\sheep-50.wav\n",
      "../jupyter/data/dataset/sheep\\sheep-51.wav\n",
      "../jupyter/data/dataset/sheep\\sheep-52.wav\n",
      "../jupyter/data/dataset/sheep\\sheep-53.wav\n",
      "../jupyter/data/dataset/sheep\\sheep-54.wav\n",
      "../jupyter/data/dataset/sheep\\sheep-55.wav\n",
      "../jupyter/data/dataset/sheep\\sheep-56.wav\n",
      "../jupyter/data/dataset/sheep\\sheep-57.wav\n",
      "../jupyter/data/dataset/sheep\\sheep-58.wav\n",
      "../jupyter/data/dataset/sheep\\sheep-59.wav\n",
      "../jupyter/data/dataset/sheep\\sheep-60.wav\n",
      "../jupyter/data/dataset/sheep\\sheep-61.wav\n",
      "../jupyter/data/dataset/sheep\\sheep-62.wav\n",
      "../jupyter/data/dataset/sheep\\sheep-63.wav\n",
      "../jupyter/data/dataset/sheep\\sheep-64.wav\n",
      "../jupyter/data/dataset/sheep\\sheep-65.wav\n",
      "../jupyter/data/dataset/sheep\\sheep-66.wav\n",
      "../jupyter/data/dataset/sheep\\sheep-67.wav\n",
      "../jupyter/data/dataset/sheep\\sheep-68.wav\n",
      "../jupyter/data/dataset/sheep\\sheep-69.wav\n",
      "../jupyter/data/dataset/sheep\\sheep-70.wav\n",
      "../jupyter/data/dataset/sheep\\sheep-71.wav\n",
      "../jupyter/data/dataset/sheep\\sheep-72.wav\n",
      "../jupyter/data/dataset/sheep\\sheep-73.wav\n",
      "../jupyter/data/dataset/sheep\\sheep-74.wav\n",
      "../jupyter/data/dataset/sheep\\sheep-75.wav\n",
      "../jupyter/data/dataset/sheep\\sheep-76.wav\n",
      "../jupyter/data/dataset/sheep\\sheep-77.wav\n",
      "../jupyter/data/dataset/sheep\\sheep-78.wav\n",
      "../jupyter/data/dataset/sheep\\sheep-79.wav\n",
      "../jupyter/data/dataset/sheep\\sheep-80.wav\n",
      "../jupyter/data/dataset/sheep\\sheep-81.wav\n",
      "../jupyter/data/dataset/sheep\\sheep-82.wav\n",
      "../jupyter/data/dataset/sheep\\sheep-83.wav\n",
      "../jupyter/data/dataset/sheep\\sheep-84.wav\n",
      "../jupyter/data/dataset/sheep\\sheep-85.wav\n",
      "../jupyter/data/dataset/sheep\\sheep-86.wav\n",
      "../jupyter/data/dataset/sheep\\sheep-87.wav\n",
      "../jupyter/data/dataset/sheep\\sheep-88.wav\n",
      "../jupyter/data/dataset/sheep\\sheep-89.wav\n",
      "../jupyter/data/dataset/sheep\\sheep-90.wav\n",
      "../jupyter/data/dataset/sheep\\sheep-91.wav\n",
      "../jupyter/data/dataset/sheep\\sheep-92.wav\n",
      "../jupyter/data/dataset/sheep\\sheep-93.wav\n",
      "../jupyter/data/dataset/sheep\\sheep-94.wav\n",
      "../jupyter/data/dataset/sheep\\sheep-95.wav\n",
      "../jupyter/data/dataset/sheep\\sheep-96.wav\n",
      "../jupyter/data/dataset/sheep\\sheep-97.wav\n",
      "../jupyter/data/dataset/sheep\\sheep-98.wav\n",
      "../jupyter/data/dataset/sheep\\sheep-99.wav\n"
     ]
    }
   ],
   "source": [
    "import numpy as np # linear algebra\n",
    "import pandas as pd # data processing, CSV file I/O (e.g. pd.read_csv)\n",
    "import warnings\n",
    "warnings.filterwarnings(\"ignore\")\n",
    "import os\n",
    "for dirname, _, filenames in os.walk('../jupyter/data/dataset/'):\n",
    "    for filename in filenames:\n",
    "        print(os.path.join(dirname, filename))\n",
    "my_classes = ['bird', 'cat','dog','housefly','sheep']"
   ]
  },
  {
   "cell_type": "code",
   "execution_count": 2,
   "metadata": {},
   "outputs": [],
   "source": [
    "import os\n",
    "from IPython import display\n",
    "import matplotlib.pyplot as plt\n",
    "import numpy as np\n",
    "import pandas as pd\n",
    "import tensorflow as tf\n",
    "import tensorflow_datasets as tfds\n",
    "import tensorflow_hub as hub\n",
    "import tensorflow_io as tfio\n",
    "import seaborn as sns\n",
    "from sklearn.utils import shuffle\n",
    "from tqdm.notebook import tqdm\n",
    "from sklearn.model_selection import train_test_split\n"
   ]
  },
  {
   "cell_type": "code",
   "execution_count": 3,
   "metadata": {},
   "outputs": [],
   "source": [
    "yamnet_model_handle = 'https://hub.tensorflow.google.cn/google/yamnet/1'\n",
    "yamnet_model = hub.load(yamnet_model_handle)"
   ]
  },
  {
   "cell_type": "code",
   "execution_count": 4,
   "metadata": {},
   "outputs": [],
   "source": [
    "@tf.function\n",
    "def load_wav_16k_mono(filename):\n",
    "    \"\"\" read in a waveform file and convert to 16 kHz mono \"\"\"\n",
    "    file_contents = tf.io.read_file(filename)\n",
    "    wav, sample_rate = tf.audio.decode_wav(\n",
    "          file_contents,\n",
    "          desired_channels=1)\n",
    "    wav = tf.squeeze(wav, axis=-1)\n",
    "    sample_rate = tf.cast(sample_rate, dtype=tf.int64)\n",
    "    wav = tfio.audio.resample(wav, rate_in=sample_rate, rate_out=16000)\n",
    "    return wav"
   ]
  },
  {
   "cell_type": "code",
   "execution_count": 5,
   "metadata": {},
   "outputs": [
    {
     "name": "stdout",
     "output_type": "stream",
     "text": [
      "Speech\n",
      "Child speech, kid speaking\n",
      "Conversation\n",
      "Narration, monologue\n",
      "Babbling\n",
      "Speech synthesizer\n",
      "Shout\n",
      "Bellow\n",
      "Whoop\n",
      "Yell\n",
      "Children shouting\n",
      "Screaming\n",
      "Whispering\n",
      "Laughter\n",
      "Baby laughter\n",
      "Giggle\n",
      "Snicker\n",
      "Belly laugh\n",
      "Chuckle, chortle\n",
      "Crying, sobbing\n",
      "...\n"
     ]
    }
   ],
   "source": [
    "class_map_path = yamnet_model.class_map_path().numpy().decode('utf-8')\n",
    "class_names =list(pd.read_csv(class_map_path)['display_name'])\n",
    "\n",
    "for name in class_names[:20]:\n",
    "  print(name)\n",
    "print('...')"
   ]
  },
  {
   "cell_type": "code",
   "execution_count": 6,
   "metadata": {},
   "outputs": [
    {
     "name": "stdout",
     "output_type": "stream",
     "text": [
      "Commands: ['bird' 'cat' 'dog' 'housefly' 'sheep']\n"
     ]
    }
   ],
   "source": [
    "import pathlib\n",
    "data_dir = pathlib.Path('../jupyter/data/dataset')\n",
    "commands = np.array(tf.io.gfile.listdir(str(data_dir)))\n",
    "commands = commands[commands != 'README.md']\n",
    "print('Commands:', commands)"
   ]
  },
  {
   "cell_type": "code",
   "execution_count": 7,
   "metadata": {},
   "outputs": [],
   "source": [
    "train_bird_files = '../jupyter/data/dataset/bird/' +\\\n",
    "pd.DataFrame(os.listdir(\"../jupyter/data/dataset/bird/\"),columns=[\"file_name\"])\n",
    "train_bird_labels = pd.DataFrame(np.asarray(np.ones(len(train_bird_files))).astype(np.int32),columns=[\"label\"])\n",
    "\n",
    "train_cat_files = '../jupyter/data/dataset/cat/' +\\\n",
    "pd.DataFrame(os.listdir(\"../jupyter/data/dataset/cat/\"),columns=[\"file_name\"])\n",
    "train_cat_labels = pd.DataFrame(np.asarray(np.zeros(len(train_cat_files))).astype(np.int32),columns=[\"label\"]) \n",
    "\n",
    "train_dog_files = '../jupyter/data/dataset/dog/' +\\\n",
    "pd.DataFrame(os.listdir(\"../jupyter/data/dataset/dog/\"),columns=[\"file_name\"])\n",
    "list_train_dog= []\n",
    "for i in range (len(train_dog_files)):\n",
    "    list_train_dog.append(2)\n",
    "train_dog_labels = pd.DataFrame(list_train_dog,columns=[\"label\"],dtype=np.int32 )\n",
    "\n",
    "train_housefly_files = '../jupyter/data/dataset/housefly/' +\\\n",
    "pd.DataFrame(os.listdir(\"../jupyter/data/dataset/housefly/\"),columns=[\"file_name\"])\n",
    "list_train_housefly= []\n",
    "for i in range (len(train_housefly_files)):\n",
    "    list_train_housefly.append(3)\n",
    "train_housefly_labels = pd.DataFrame(list_train_housefly,columns=[\"label\"],dtype=np.int32 )\n",
    "\n",
    "train_sheep_files = '../jupyter/data/dataset/sheep/' +\\\n",
    "pd.DataFrame(os.listdir(\"../jupyter/data/dataset/sheep/\"),columns=[\"file_name\"])\n",
    "list_train_sheep= []\n",
    "for i in range (len(train_sheep_files)):\n",
    "    list_train_sheep.append(4)\n",
    "train_sheep_labels = pd.DataFrame(list_train_sheep,columns=[\"label\"],dtype=np.int32 )\n",
    "\n",
    "data=pd.concat([train_bird_files,train_cat_files,train_dog_files,train_housefly_files,train_sheep_files]\n",
    "               ,ignore_index=True).squeeze()\n",
    "labels=pd.concat([train_bird_labels,train_cat_labels,train_dog_labels,train_housefly_labels,train_sheep_labels]\n",
    "                 ,ignore_index=True).squeeze()\n",
    "\n",
    "\n",
    "complete=pd.concat([data,labels], axis=1)"
   ]
  },
  {
   "cell_type": "code",
   "execution_count": 8,
   "metadata": {},
   "outputs": [
    {
     "name": "stdout",
     "output_type": "stream",
     "text": [
      "4    110\n",
      "3    110\n",
      "2    110\n",
      "1    110\n",
      "0    110\n",
      "Name: label, dtype: int64\n"
     ]
    }
   ],
   "source": [
    "\n",
    "\n",
    "a =complete.label.value_counts()\n",
    "print(a)"
   ]
  },
  {
   "cell_type": "code",
   "execution_count": 9,
   "metadata": {},
   "outputs": [
    {
     "name": "stdout",
     "output_type": "stream",
     "text": [
      ">Train: 0=73, 1=73, 2=74, 3=74, 4=74\n",
      ">Test: 0=17, 1=17, 2=16, 3=17, 4=16\n",
      ">Val: 0=20, 1=20, 2=20, 3=19, 4=20\n"
     ]
    },
    {
     "data": {
      "text/html": [
       "<div>\n",
       "<style scoped>\n",
       "    .dataframe tbody tr th:only-of-type {\n",
       "        vertical-align: middle;\n",
       "    }\n",
       "\n",
       "    .dataframe tbody tr th {\n",
       "        vertical-align: top;\n",
       "    }\n",
       "\n",
       "    .dataframe thead th {\n",
       "        text-align: right;\n",
       "    }\n",
       "</style>\n",
       "<table border=\"1\" class=\"dataframe\">\n",
       "  <thead>\n",
       "    <tr style=\"text-align: right;\">\n",
       "      <th></th>\n",
       "      <th>file_name</th>\n",
       "      <th>label</th>\n",
       "      <th>fold</th>\n",
       "    </tr>\n",
       "  </thead>\n",
       "  <tbody>\n",
       "    <tr>\n",
       "      <th>318</th>\n",
       "      <td>../jupyter/data/dataset/dog/dog-88.wav</td>\n",
       "      <td>2</td>\n",
       "      <td>valX</td>\n",
       "    </tr>\n",
       "    <tr>\n",
       "      <th>205</th>\n",
       "      <td>../jupyter/data/dataset/cat/cat-85.wav</td>\n",
       "      <td>0</td>\n",
       "      <td>testX</td>\n",
       "    </tr>\n",
       "    <tr>\n",
       "      <th>443</th>\n",
       "      <td>../jupyter/data/dataset/sheep/sheep-04.wav</td>\n",
       "      <td>4</td>\n",
       "      <td>valX</td>\n",
       "    </tr>\n",
       "    <tr>\n",
       "      <th>25</th>\n",
       "      <td>../jupyter/data/dataset/bird/bird-15.wav</td>\n",
       "      <td>1</td>\n",
       "      <td>trainX</td>\n",
       "    </tr>\n",
       "    <tr>\n",
       "      <th>473</th>\n",
       "      <td>../jupyter/data/dataset/sheep/sheep-23.wav</td>\n",
       "      <td>4</td>\n",
       "      <td>trainX</td>\n",
       "    </tr>\n",
       "  </tbody>\n",
       "</table>\n",
       "</div>"
      ],
      "text/plain": [
       "                                      file_name  label    fold\n",
       "318      ../jupyter/data/dataset/dog/dog-88.wav      2    valX\n",
       "205      ../jupyter/data/dataset/cat/cat-85.wav      0   testX\n",
       "443  ../jupyter/data/dataset/sheep/sheep-04.wav      4    valX\n",
       "25     ../jupyter/data/dataset/bird/bird-15.wav      1  trainX\n",
       "473  ../jupyter/data/dataset/sheep/sheep-23.wav      4  trainX"
      ]
     },
     "execution_count": 9,
     "metadata": {},
     "output_type": "execute_result"
    }
   ],
   "source": [
    "X=complete[\"file_name\"].values\n",
    "y=complete[\"label\"].values\n",
    "\n",
    "trainX, testX, trainy, testy = train_test_split(X, y, test_size=0.15, random_state=2, stratify=y)\n",
    "trainX, valX, trainy, valy = train_test_split(trainX, trainy, test_size=0.21, random_state=2, stratify=trainy)\n",
    "    \n",
    "train_0, train_1,train_2 = len(trainy[trainy==0]), len(trainy[trainy==1]), len(trainy[trainy==2])\n",
    "train_3, train_4 = len(trainy[trainy==3]), len(trainy[trainy==4])\n",
    "\n",
    "test_0, test_1,test_2 = len(testy[testy==0]), len(testy[testy==1]), len(testy[testy==2])\n",
    "test_3, test_4 = len(testy[testy==3]), len(testy[testy==4])\n",
    "                                                                        \n",
    "val_0, val_1, val_2 = len(valy[valy==0]), len(valy[valy==1]), len(valy[valy==2])\n",
    "val_3, val_4 = len(valy[valy==3]), len(valy[valy==4])  \n",
    "\n",
    "                                                                        \n",
    "print('>Train: 0=%d, 1=%d, 2=%d, 3=%d, 4=%d' % (train_0, train_1, train_2, train_3, train_4))\n",
    "print('>Test: 0=%d, 1=%d, 2=%d, 3=%d, 4=%d' % (test_0, test_1, test_2, test_3, test_4))\n",
    "print('>Val: 0=%d, 1=%d, 2=%d, 3=%d, 4=%d' % (val_0, val_1, val_2, val_3, val_4))\n",
    "                                                                        \n",
    "                                                                        \n",
    "folds=[]\n",
    "for file in X:\n",
    "    if file in testX:\n",
    "        folds.append(\"testX\")\n",
    "    elif file in valX:\n",
    "        folds.append(\"valX\")\n",
    "    else: folds.append(\"trainX\")\n",
    "        \n",
    "        \n",
    "fold_names = pd.DataFrame(folds,columns=[\"fold\"]).squeeze()\n",
    "complete=pd.concat([complete,fold_names], axis=1)\n",
    "complete = shuffle(complete)\n",
    "complete.head()"
   ]
  },
  {
   "cell_type": "code",
   "execution_count": 10,
   "metadata": {},
   "outputs": [
    {
     "data": {
      "text/plain": [
       "(TensorSpec(shape=(), dtype=tf.string, name=None),\n",
       " TensorSpec(shape=(), dtype=tf.int32, name=None),\n",
       " TensorSpec(shape=(), dtype=tf.string, name=None))"
      ]
     },
     "execution_count": 10,
     "metadata": {},
     "output_type": "execute_result"
    }
   ],
   "source": [
    "main_ds = tf.data.Dataset.from_tensor_slices((data, labels,folds))\n",
    "main_ds.element_spec"
   ]
  },
  {
   "cell_type": "code",
   "execution_count": 11,
   "metadata": {},
   "outputs": [],
   "source": [
    "def load_wav_for_map(filename, label, fold):\n",
    "  return load_wav_16k_mono(filename), label, fold"
   ]
  },
  {
   "cell_type": "code",
   "execution_count": 12,
   "metadata": {},
   "outputs": [
    {
     "name": "stdout",
     "output_type": "stream",
     "text": [
      "WARNING:tensorflow:From C:\\Users\\Atakan\\AppData\\Roaming\\Python\\Python38\\site-packages\\tensorflow\\python\\ops\\parallel_for\\pfor.py:2380: calling gather (from tensorflow.python.ops.array_ops) with validate_indices is deprecated and will be removed in a future version.\n",
      "Instructions for updating:\n",
      "The `validate_indices` argument has no effect. Indices are always validated on CPU and never validated on GPU.\n"
     ]
    },
    {
     "name": "stderr",
     "output_type": "stream",
     "text": [
      "WARNING:tensorflow:From C:\\Users\\Atakan\\AppData\\Roaming\\Python\\Python38\\site-packages\\tensorflow\\python\\ops\\parallel_for\\pfor.py:2380: calling gather (from tensorflow.python.ops.array_ops) with validate_indices is deprecated and will be removed in a future version.\n",
      "Instructions for updating:\n",
      "The `validate_indices` argument has no effect. Indices are always validated on CPU and never validated on GPU.\n"
     ]
    },
    {
     "name": "stdout",
     "output_type": "stream",
     "text": [
      "WARNING:tensorflow:Using a while_loop for converting IO>AudioResample\n"
     ]
    },
    {
     "name": "stderr",
     "output_type": "stream",
     "text": [
      "WARNING:tensorflow:Using a while_loop for converting IO>AudioResample\n"
     ]
    },
    {
     "data": {
      "text/plain": [
       "(TensorSpec(shape=<unknown>, dtype=tf.float32, name=None),\n",
       " TensorSpec(shape=(), dtype=tf.int32, name=None),\n",
       " TensorSpec(shape=(), dtype=tf.string, name=None))"
      ]
     },
     "execution_count": 12,
     "metadata": {},
     "output_type": "execute_result"
    }
   ],
   "source": [
    "main_ds = main_ds.map(load_wav_for_map)\n",
    "main_ds.element_spec"
   ]
  },
  {
   "cell_type": "code",
   "execution_count": 13,
   "metadata": {},
   "outputs": [
    {
     "data": {
      "text/plain": [
       "(TensorSpec(shape=(1024,), dtype=tf.float32, name=None),\n",
       " TensorSpec(shape=(), dtype=tf.int32, name=None),\n",
       " TensorSpec(shape=(), dtype=tf.string, name=None))"
      ]
     },
     "execution_count": 13,
     "metadata": {},
     "output_type": "execute_result"
    }
   ],
   "source": [
    "# applies the embedding extraction model to a wav data\n",
    "def extract_embedding(wav_data, label, fold):\n",
    "  \n",
    "  scores, embeddings, spectrogram = yamnet_model(wav_data)\n",
    "  num_embeddings = tf.shape(embeddings)[0]\n",
    "  return (embeddings,\n",
    "            tf.repeat(label, num_embeddings),\n",
    "            tf.repeat(fold, num_embeddings))\n",
    "\n",
    "# extract embedding\n",
    "main_ds = main_ds.map(extract_embedding).unbatch()\n",
    "main_ds.element_spec"
   ]
  },
  {
   "cell_type": "code",
   "execution_count": 14,
   "metadata": {},
   "outputs": [],
   "source": [
    "cached_ds = main_ds.cache()\n",
    "train_ds = cached_ds.filter(lambda embedding, label, fold: fold == \"trainX\")\n",
    "val_ds = cached_ds.filter(lambda embedding, label, fold: fold == \"valX\")\n",
    "test_ds = cached_ds.filter(lambda embedding, label, fold: fold == \"testX\")\n",
    "\n",
    "# remove the folds column now that it's not needed anymore\n",
    "remove_fold_column = lambda embedding, label, fold: (embedding, label)\n",
    "\n",
    "train_ds = train_ds.map(remove_fold_column)\n",
    "val_ds = val_ds.map(remove_fold_column)\n",
    "test_ds = test_ds.map(remove_fold_column)\n",
    "\n",
    "train_ds = train_ds.cache().shuffle(1000).batch(32).prefetch(tf.data.AUTOTUNE)\n",
    "val_ds = val_ds.cache().batch(32).prefetch(tf.data.AUTOTUNE)\n",
    "test_ds = test_ds.cache().batch(32).prefetch(tf.data.AUTOTUNE)"
   ]
  },
  {
   "cell_type": "code",
   "execution_count": 15,
   "metadata": {},
   "outputs": [
    {
     "name": "stdout",
     "output_type": "stream",
     "text": [
      "WARNING:tensorflow:Please add `keras.layers.InputLayer` instead of `keras.Input` to Sequential model. `keras.Input` is intended to be used by Functional model.\n"
     ]
    },
    {
     "name": "stderr",
     "output_type": "stream",
     "text": [
      "WARNING:tensorflow:Please add `keras.layers.InputLayer` instead of `keras.Input` to Sequential model. `keras.Input` is intended to be used by Functional model.\n"
     ]
    },
    {
     "name": "stdout",
     "output_type": "stream",
     "text": [
      "Model: \"my_model\"\n",
      "_________________________________________________________________\n",
      "Layer (type)                 Output Shape              Param #   \n",
      "=================================================================\n",
      "dense (Dense)                (None, 512)               524800    \n",
      "_________________________________________________________________\n",
      "dense_1 (Dense)              (None, 256)               131328    \n",
      "_________________________________________________________________\n",
      "dense_2 (Dense)              (None, 128)               32896     \n",
      "_________________________________________________________________\n",
      "dense_3 (Dense)              (None, 128)               16512     \n",
      "_________________________________________________________________\n",
      "dense_4 (Dense)              (None, 5)                 645       \n",
      "=================================================================\n",
      "Total params: 706,181\n",
      "Trainable params: 706,181\n",
      "Non-trainable params: 0\n",
      "_________________________________________________________________\n"
     ]
    }
   ],
   "source": [
    "my_model = tf.keras.Sequential([\n",
    "    tf.keras.layers.Input(shape=(1024), dtype=tf.float32,\n",
    "                          name='input_embedding'),\n",
    "    tf.keras.layers.Dense(512, activation='relu'),\n",
    "    tf.keras.layers.Dense(256, activation='relu'),\n",
    "    tf.keras.layers.Dense(128, activation='relu'),\n",
    "    tf.keras.layers.Dense(128, activation='relu'),\n",
    "    tf.keras.layers.Dense(len(my_classes))\n",
    "], name='my_model')\n",
    "\n",
    "my_model.summary()"
   ]
  },
  {
   "cell_type": "code",
   "execution_count": 16,
   "metadata": {},
   "outputs": [],
   "source": [
    "my_model.compile(loss=tf.keras.losses.SparseCategoricalCrossentropy(from_logits=True),\n",
    "                 optimizer=\"adam\",\n",
    "                 metrics=['accuracy'])\n",
    "\n",
    "callback = tf.keras.callbacks.EarlyStopping(monitor='loss',\n",
    "                                            patience=12,\n",
    "                                            restore_best_weights=True)"
   ]
  },
  {
   "cell_type": "code",
   "execution_count": 17,
   "metadata": {},
   "outputs": [
    {
     "name": "stdout",
     "output_type": "stream",
     "text": [
      "Epoch 1/50\n",
      "16/16 [==============================] - 6s 20ms/step - loss: 0.5076 - accuracy: 0.8668 - val_loss: 0.0155 - val_accuracy: 1.0000\n",
      "Epoch 2/50\n",
      "16/16 [==============================] - 0s 11ms/step - loss: 0.0347 - accuracy: 0.9881 - val_loss: 0.0257 - val_accuracy: 0.9926\n",
      "Epoch 3/50\n",
      "16/16 [==============================] - 0s 11ms/step - loss: 0.0291 - accuracy: 0.9901 - val_loss: 0.0018 - val_accuracy: 1.0000\n",
      "Epoch 4/50\n",
      "16/16 [==============================] - 0s 11ms/step - loss: 0.0111 - accuracy: 0.9960 - val_loss: 0.0030 - val_accuracy: 1.0000\n",
      "Epoch 5/50\n",
      "16/16 [==============================] - 0s 11ms/step - loss: 0.0137 - accuracy: 0.9920 - val_loss: 0.0026 - val_accuracy: 1.0000\n",
      "Epoch 6/50\n",
      "16/16 [==============================] - 0s 11ms/step - loss: 0.0141 - accuracy: 0.9980 - val_loss: 0.0079 - val_accuracy: 0.9926\n",
      "Epoch 7/50\n",
      "16/16 [==============================] - 0s 10ms/step - loss: 0.0028 - accuracy: 1.0000 - val_loss: 0.0013 - val_accuracy: 1.0000\n",
      "Epoch 8/50\n",
      "16/16 [==============================] - 0s 11ms/step - loss: 4.1469e-04 - accuracy: 1.0000 - val_loss: 0.0013 - val_accuracy: 1.0000\n",
      "Epoch 9/50\n",
      "16/16 [==============================] - 0s 11ms/step - loss: 3.4576e-04 - accuracy: 1.0000 - val_loss: 0.0011 - val_accuracy: 1.0000\n",
      "Epoch 10/50\n",
      "16/16 [==============================] - 0s 11ms/step - loss: 2.5691e-04 - accuracy: 1.0000 - val_loss: 8.7330e-04 - val_accuracy: 1.0000\n",
      "Epoch 11/50\n",
      "16/16 [==============================] - 0s 11ms/step - loss: 2.0081e-04 - accuracy: 1.0000 - val_loss: 7.6171e-04 - val_accuracy: 1.0000\n",
      "Epoch 12/50\n",
      "16/16 [==============================] - 0s 11ms/step - loss: 1.5089e-04 - accuracy: 1.0000 - val_loss: 7.1369e-04 - val_accuracy: 1.0000\n",
      "Epoch 13/50\n",
      "16/16 [==============================] - 0s 11ms/step - loss: 1.1472e-04 - accuracy: 1.0000 - val_loss: 6.3973e-04 - val_accuracy: 1.0000\n",
      "Epoch 14/50\n",
      "16/16 [==============================] - 0s 11ms/step - loss: 9.1634e-05 - accuracy: 1.0000 - val_loss: 5.9090e-04 - val_accuracy: 1.0000\n",
      "Epoch 15/50\n",
      "16/16 [==============================] - 0s 11ms/step - loss: 7.2678e-05 - accuracy: 1.0000 - val_loss: 5.7791e-04 - val_accuracy: 1.0000\n",
      "Epoch 16/50\n",
      "16/16 [==============================] - 0s 11ms/step - loss: 5.9911e-05 - accuracy: 1.0000 - val_loss: 5.3233e-04 - val_accuracy: 1.0000\n",
      "Epoch 17/50\n",
      "16/16 [==============================] - 0s 12ms/step - loss: 4.9747e-05 - accuracy: 1.0000 - val_loss: 4.7849e-04 - val_accuracy: 1.0000\n",
      "Epoch 18/50\n",
      "16/16 [==============================] - 0s 11ms/step - loss: 4.1149e-05 - accuracy: 1.0000 - val_loss: 4.7861e-04 - val_accuracy: 1.0000\n",
      "Epoch 19/50\n",
      "16/16 [==============================] - 0s 11ms/step - loss: 3.5601e-05 - accuracy: 1.0000 - val_loss: 4.6995e-04 - val_accuracy: 1.0000\n",
      "Epoch 20/50\n",
      "16/16 [==============================] - 0s 11ms/step - loss: 3.0287e-05 - accuracy: 1.0000 - val_loss: 4.2620e-04 - val_accuracy: 1.0000\n",
      "Epoch 21/50\n",
      "16/16 [==============================] - 0s 11ms/step - loss: 2.6234e-05 - accuracy: 1.0000 - val_loss: 4.0550e-04 - val_accuracy: 1.0000\n",
      "Epoch 22/50\n",
      "16/16 [==============================] - 0s 11ms/step - loss: 2.3078e-05 - accuracy: 1.0000 - val_loss: 4.1178e-04 - val_accuracy: 1.0000\n",
      "Epoch 23/50\n",
      "16/16 [==============================] - 0s 11ms/step - loss: 2.0321e-05 - accuracy: 1.0000 - val_loss: 3.6461e-04 - val_accuracy: 1.0000\n",
      "Epoch 24/50\n",
      "16/16 [==============================] - 0s 12ms/step - loss: 1.7983e-05 - accuracy: 1.0000 - val_loss: 3.4841e-04 - val_accuracy: 1.0000\n",
      "Epoch 25/50\n",
      "16/16 [==============================] - 0s 12ms/step - loss: 1.5861e-05 - accuracy: 1.0000 - val_loss: 3.3143e-04 - val_accuracy: 1.0000\n",
      "Epoch 26/50\n",
      "16/16 [==============================] - 0s 11ms/step - loss: 1.4286e-05 - accuracy: 1.0000 - val_loss: 3.1663e-04 - val_accuracy: 1.0000\n",
      "Epoch 27/50\n",
      "16/16 [==============================] - 0s 11ms/step - loss: 1.2918e-05 - accuracy: 1.0000 - val_loss: 3.0844e-04 - val_accuracy: 1.0000\n",
      "Epoch 28/50\n",
      "16/16 [==============================] - 0s 13ms/step - loss: 1.1703e-05 - accuracy: 1.0000 - val_loss: 2.9206e-04 - val_accuracy: 1.0000\n",
      "Epoch 29/50\n",
      "16/16 [==============================] - 0s 11ms/step - loss: 1.0731e-05 - accuracy: 1.0000 - val_loss: 2.9262e-04 - val_accuracy: 1.0000\n",
      "Epoch 30/50\n",
      "16/16 [==============================] - 0s 11ms/step - loss: 9.7541e-06 - accuracy: 1.0000 - val_loss: 2.6941e-04 - val_accuracy: 1.0000\n",
      "Epoch 31/50\n",
      "16/16 [==============================] - 0s 11ms/step - loss: 9.0047e-06 - accuracy: 1.0000 - val_loss: 2.5600e-04 - val_accuracy: 1.0000\n",
      "Epoch 32/50\n",
      "16/16 [==============================] - 0s 10ms/step - loss: 8.2873e-06 - accuracy: 1.0000 - val_loss: 2.4276e-04 - val_accuracy: 1.0000\n",
      "Epoch 33/50\n",
      "16/16 [==============================] - 0s 11ms/step - loss: 7.7511e-06 - accuracy: 1.0000 - val_loss: 2.4270e-04 - val_accuracy: 1.0000\n",
      "Epoch 34/50\n",
      "16/16 [==============================] - 0s 11ms/step - loss: 7.2541e-06 - accuracy: 1.0000 - val_loss: 2.4320e-04 - val_accuracy: 1.0000\n",
      "Epoch 35/50\n",
      "16/16 [==============================] - 0s 11ms/step - loss: 6.7172e-06 - accuracy: 1.0000 - val_loss: 2.3302e-04 - val_accuracy: 1.0000\n",
      "Epoch 36/50\n",
      "16/16 [==============================] - 0s 11ms/step - loss: 6.2845e-06 - accuracy: 1.0000 - val_loss: 2.2794e-04 - val_accuracy: 1.0000\n",
      "Epoch 37/50\n",
      "16/16 [==============================] - 0s 13ms/step - loss: 5.8871e-06 - accuracy: 1.0000 - val_loss: 2.0083e-04 - val_accuracy: 1.0000\n",
      "Epoch 38/50\n",
      "16/16 [==============================] - 0s 11ms/step - loss: 5.5398e-06 - accuracy: 1.0000 - val_loss: 1.8996e-04 - val_accuracy: 1.0000\n",
      "Epoch 39/50\n",
      "16/16 [==============================] - 0s 11ms/step - loss: 5.3146e-06 - accuracy: 1.0000 - val_loss: 1.9696e-04 - val_accuracy: 1.0000\n",
      "Epoch 40/50\n",
      "16/16 [==============================] - 0s 11ms/step - loss: 4.9339e-06 - accuracy: 1.0000 - val_loss: 1.9861e-04 - val_accuracy: 1.0000\n",
      "Epoch 41/50\n",
      "16/16 [==============================] - 0s 11ms/step - loss: 4.6514e-06 - accuracy: 1.0000 - val_loss: 1.8322e-04 - val_accuracy: 1.0000\n",
      "Epoch 42/50\n",
      "16/16 [==============================] - 0s 11ms/step - loss: 4.4206e-06 - accuracy: 1.0000 - val_loss: 1.7427e-04 - val_accuracy: 1.0000\n",
      "Epoch 43/50\n",
      "16/16 [==============================] - 0s 11ms/step - loss: 4.1775e-06 - accuracy: 1.0000 - val_loss: 1.8210e-04 - val_accuracy: 1.0000\n",
      "Epoch 44/50\n",
      "16/16 [==============================] - 0s 11ms/step - loss: 3.9756e-06 - accuracy: 1.0000 - val_loss: 1.7866e-04 - val_accuracy: 1.0000\n",
      "Epoch 45/50\n",
      "16/16 [==============================] - 0s 11ms/step - loss: 3.7645e-06 - accuracy: 1.0000 - val_loss: 1.7382e-04 - val_accuracy: 1.0000\n",
      "Epoch 46/50\n",
      "16/16 [==============================] - 0s 11ms/step - loss: 3.5694e-06 - accuracy: 1.0000 - val_loss: 1.6006e-04 - val_accuracy: 1.0000\n",
      "Epoch 47/50\n",
      "16/16 [==============================] - 0s 11ms/step - loss: 3.4239e-06 - accuracy: 1.0000 - val_loss: 1.6444e-04 - val_accuracy: 1.0000\n",
      "Epoch 48/50\n",
      "16/16 [==============================] - 0s 11ms/step - loss: 3.2147e-06 - accuracy: 1.0000 - val_loss: 1.5953e-04 - val_accuracy: 1.0000\n",
      "Epoch 49/50\n",
      "16/16 [==============================] - 0s 11ms/step - loss: 3.0505e-06 - accuracy: 1.0000 - val_loss: 1.5636e-04 - val_accuracy: 1.0000\n",
      "Epoch 50/50\n",
      "16/16 [==============================] - 0s 11ms/step - loss: 2.8863e-06 - accuracy: 1.0000 - val_loss: 1.5080e-04 - val_accuracy: 1.0000\n"
     ]
    }
   ],
   "source": [
    "history = my_model.fit(train_ds,\n",
    "                       epochs=50,\n",
    "                       validation_data=val_ds,\n",
    "                       callbacks=callback)"
   ]
  },
  {
   "cell_type": "code",
   "execution_count": 18,
   "metadata": {},
   "outputs": [
    {
     "name": "stdout",
     "output_type": "stream",
     "text": [
      "4/4 [==============================] - 0s 10ms/step - loss: 0.1551 - accuracy: 0.9823\n",
      "Loss:  0.15509316325187683\n",
      "Accuracy:  0.982300877571106\n"
     ]
    }
   ],
   "source": [
    "loss, accuracy = my_model.evaluate(test_ds)\n",
    "print(\"Loss: \", loss)\n",
    "print(\"Accuracy: \", accuracy)"
   ]
  },
  {
   "cell_type": "code",
   "execution_count": 19,
   "metadata": {},
   "outputs": [
    {
     "data": {
      "image/png": "[encoded data removed]",
      "text/plain": [
       "<Figure size 432x288 with 1 Axes>"
      ]
     },
     "metadata": {
      "needs_background": "light"
     },
     "output_type": "display_data"
    }
   ],
   "source": [
    "metrics = history.history\n",
    "plt.plot(history.epoch, metrics['loss'], metrics['val_loss'])\n",
    "plt.legend(['loss', 'val_loss'])\n",
    "plt.show()"
   ]
  },
  {
   "cell_type": "code",
   "execution_count": 20,
   "metadata": {},
   "outputs": [
    {
     "name": "stdout",
     "output_type": "stream",
     "text": [
      "WARNING:tensorflow:Compiled the loaded model, but the compiled metrics have yet to be built. `model.compile_metrics` will be empty until you train or evaluate the model.\n"
     ]
    },
    {
     "name": "stderr",
     "output_type": "stream",
     "text": [
      "WARNING:tensorflow:Compiled the loaded model, but the compiled metrics have yet to be built. `model.compile_metrics` will be empty until you train or evaluate the model.\n"
     ]
    },
    {
     "name": "stdout",
     "output_type": "stream",
     "text": [
      "INFO:tensorflow:Assets written to: ./csv_format\\assets\n"
     ]
    },
    {
     "name": "stderr",
     "output_type": "stream",
     "text": [
      "INFO:tensorflow:Assets written to: ./csv_format\\assets\n"
     ]
    }
   ],
   "source": [
    "class ReduceMeanLayer(tf.keras.layers.Layer):\n",
    "  def __init__(self, axis=0, **kwargs):\n",
    "    super(ReduceMeanLayer, self).__init__(**kwargs)\n",
    "    self.axis = axis\n",
    "\n",
    "  def call(self, input):\n",
    "    return tf.math.reduce_mean(input, axis=self.axis)\n",
    "\n",
    "\n",
    "saved_model_path = './csv_format'\n",
    "\n",
    "input_segment = tf.keras.layers.Input(shape=(), dtype=tf.float32, name='audio')\n",
    "embedding_extraction_layer = hub.KerasLayer(yamnet_model_handle,\n",
    "                                            trainable=False, name='yamnet')\n",
    "_, embeddings_output, _ = embedding_extraction_layer(input_segment)\n",
    "serving_outputs = my_model(embeddings_output)\n",
    "serving_outputs = ReduceMeanLayer(axis=0, name='classifier')(serving_outputs)\n",
    "serving_model = tf.keras.Model(input_segment, serving_outputs)\n",
    "serving_model.save(saved_model_path, include_optimizer=False)\n",
    "\n",
    "\n",
    "#Load the saved model to verify that it works as expected.\n",
    "reloaded_model = tf.saved_model.load(saved_model_path)"
   ]
  },
  {
   "cell_type": "code",
   "execution_count": 21,
   "metadata": {},
   "outputs": [
    {
     "name": "stdout",
     "output_type": "stream",
     "text": [
      "../jupyter/data/dataset/bird/bird-08.wav\n",
      "WARNING:tensorflow:Using a while_loop for converting IO>AudioResample\n"
     ]
    },
    {
     "name": "stderr",
     "output_type": "stream",
     "text": [
      "WARNING:tensorflow:Using a while_loop for converting IO>AudioResample\n"
     ]
    },
    {
     "name": "stdout",
     "output_type": "stream",
     "text": [
      "Waveform values: [-5.4382266e-08  1.3266603e-07 -1.5348664e-07 ... -2.2129210e-02\n",
      " -1.9618146e-02  1.1802658e-02]\n"
     ]
    },
    {
     "data": {
      "text/html": [
       "\n",
       "                <audio  controls=\"controls\" >\n",
       "                    <source src=\"data:audio/wav;base64,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\" type=\"audio/wav\" />\n",
       "                    Your browser does not support the audio element.\n",
       "                </audio>\n",
       "              "
      ],
      "text/plain": [
       "<IPython.lib.display.Audio object>"
      ]
     },
     "execution_count": 21,
     "metadata": {},
     "output_type": "execute_result"
    },
    {
     "data": {
      "image/png": "[encoded data removed]",
      "text/plain": [
       "<Figure size 432x288 with 1 Axes>"
      ]
     },
     "metadata": {
      "needs_background": "light"
     },
     "output_type": "display_data"
    }
   ],
   "source": [
    "test_pd = complete.loc[complete['fold'] == \"testX\"] \n",
    "row = test_pd.sample(1)\n",
    "filename = row['file_name'].item()\n",
    "filename2 ='../jupyter/data/dataset/dog/dog-46.wav'\n",
    "print(filename)\n",
    "waveform = load_wav_16k_mono(filename)\n",
    "print(f'Waveform values: {waveform}')\n",
    "_ = plt.plot(waveform)\n",
    "\n",
    "display.Audio(waveform, rate=16000)"
   ]
  },
  {
   "cell_type": "code",
   "execution_count": null,
   "metadata": {},
   "outputs": [],
   "source": [
    "# Run the model, check the output.\n",
    "scores, embeddings, spectrogram = yamnet_model(waveform)\n",
    "class_scores = tf.reduce_mean(scores, axis=0)\n",
    "top_class = tf.argmax(class_scores)\n",
    "infered_class = class_names[top_class]\n",
    "top_score = class_scores[top_class]\n",
    "print(f'[YAMNet] The main sound is: {infered_class} ({top_score})')\n",
    "\n",
    "reloaded_results = reloaded_model(waveform)\n",
    "your_top_class = tf.argmax(reloaded_results)\n",
    "your_infered_class = my_classes[your_top_class]\n",
    "class_probabilities = tf.nn.softmax(reloaded_results, axis=-1)\n",
    "your_top_score = class_probabilities[your_top_class]\n",
    "print(f'[Your model] The main sound is: {your_infered_class} ({your_top_score})')"
   ]
  },
  {
   "cell_type": "code",
   "execution_count": null,
   "metadata": {},
   "outputs": [
    {
     "name": "stdout",
     "output_type": "stream",
     "text": [
      "WARNING:tensorflow:Using a while_loop for converting IO>AudioResample\n"
     ]
    },
    {
     "name": "stderr",
     "output_type": "stream",
     "text": [
      "WARNING:tensorflow:Using a while_loop for converting IO>AudioResample\n"
     ]
    },
    {
     "name": "stdout",
     "output_type": "stream",
     "text": [
      "WARNING:tensorflow:Using a while_loop for converting IO>AudioResample\n"
     ]
    },
    {
     "name": "stderr",
     "output_type": "stream",
     "text": [
      "WARNING:tensorflow:Using a while_loop for converting IO>AudioResample\n"
     ]
    },
    {
     "name": "stdout",
     "output_type": "stream",
     "text": [
      "WARNING:tensorflow:Using a while_loop for converting IO>AudioResample\n"
     ]
    },
    {
     "name": "stderr",
     "output_type": "stream",
     "text": [
      "WARNING:tensorflow:Using a while_loop for converting IO>AudioResample\n"
     ]
    },
    {
     "name": "stdout",
     "output_type": "stream",
     "text": [
      "WARNING:tensorflow:Using a while_loop for converting IO>AudioResample\n"
     ]
    },
    {
     "name": "stderr",
     "output_type": "stream",
     "text": [
      "WARNING:tensorflow:Using a while_loop for converting IO>AudioResample\n"
     ]
    },
    {
     "name": "stdout",
     "output_type": "stream",
     "text": [
      "WARNING:tensorflow:5 out of the last 5 calls to <function load_wav_16k_mono at 0x000001999A385E50> triggered tf.function retracing. Tracing is expensive and the excessive number of tracings could be due to (1) creating @tf.function repeatedly in a loop, (2) passing tensors with different shapes, (3) passing Python objects instead of tensors. For (1), please define your @tf.function outside of the loop. For (2), @tf.function has experimental_relax_shapes=True option that relaxes argument shapes that can avoid unnecessary retracing. For (3), please refer to https://www.tensorflow.org/guide/function#controlling_retracing and https://www.tensorflow.org/api_docs/python/tf/function for  more details.\n"
     ]
    },
    {
     "name": "stderr",
     "output_type": "stream",
     "text": [
      "WARNING:tensorflow:5 out of the last 5 calls to <function load_wav_16k_mono at 0x000001999A385E50> triggered tf.function retracing. Tracing is expensive and the excessive number of tracings could be due to (1) creating @tf.function repeatedly in a loop, (2) passing tensors with different shapes, (3) passing Python objects instead of tensors. For (1), please define your @tf.function outside of the loop. For (2), @tf.function has experimental_relax_shapes=True option that relaxes argument shapes that can avoid unnecessary retracing. For (3), please refer to https://www.tensorflow.org/guide/function#controlling_retracing and https://www.tensorflow.org/api_docs/python/tf/function for  more details.\n"
     ]
    },
    {
     "name": "stdout",
     "output_type": "stream",
     "text": [
      "WARNING:tensorflow:Using a while_loop for converting IO>AudioResample\n"
     ]
    },
    {
     "name": "stderr",
     "output_type": "stream",
     "text": [
      "WARNING:tensorflow:Using a while_loop for converting IO>AudioResample\n"
     ]
    },
    {
     "name": "stdout",
     "output_type": "stream",
     "text": [
      "WARNING:tensorflow:6 out of the last 6 calls to <function load_wav_16k_mono at 0x000001999A385E50> triggered tf.function retracing. Tracing is expensive and the excessive number of tracings could be due to (1) creating @tf.function repeatedly in a loop, (2) passing tensors with different shapes, (3) passing Python objects instead of tensors. For (1), please define your @tf.function outside of the loop. For (2), @tf.function has experimental_relax_shapes=True option that relaxes argument shapes that can avoid unnecessary retracing. For (3), please refer to https://www.tensorflow.org/guide/function#controlling_retracing and https://www.tensorflow.org/api_docs/python/tf/function for  more details.\n"
     ]
    },
    {
     "name": "stderr",
     "output_type": "stream",
     "text": [
      "WARNING:tensorflow:6 out of the last 6 calls to <function load_wav_16k_mono at 0x000001999A385E50> triggered tf.function retracing. Tracing is expensive and the excessive number of tracings could be due to (1) creating @tf.function repeatedly in a loop, (2) passing tensors with different shapes, (3) passing Python objects instead of tensors. For (1), please define your @tf.function outside of the loop. For (2), @tf.function has experimental_relax_shapes=True option that relaxes argument shapes that can avoid unnecessary retracing. For (3), please refer to https://www.tensorflow.org/guide/function#controlling_retracing and https://www.tensorflow.org/api_docs/python/tf/function for  more details.\n"
     ]
    },
    {
     "name": "stdout",
     "output_type": "stream",
     "text": [
      "WARNING:tensorflow:Using a while_loop for converting IO>AudioResample\n"
     ]
    },
    {
     "name": "stderr",
     "output_type": "stream",
     "text": [
      "WARNING:tensorflow:Using a while_loop for converting IO>AudioResample\n"
     ]
    },
    {
     "name": "stdout",
     "output_type": "stream",
     "text": [
      "WARNING:tensorflow:Using a while_loop for converting IO>AudioResample\n"
     ]
    },
    {
     "name": "stderr",
     "output_type": "stream",
     "text": [
      "WARNING:tensorflow:Using a while_loop for converting IO>AudioResample\n"
     ]
    },
    {
     "name": "stdout",
     "output_type": "stream",
     "text": [
      "WARNING:tensorflow:Using a while_loop for converting IO>AudioResample\n"
     ]
    },
    {
     "name": "stderr",
     "output_type": "stream",
     "text": [
      "WARNING:tensorflow:Using a while_loop for converting IO>AudioResample\n"
     ]
    },
    {
     "name": "stdout",
     "output_type": "stream",
     "text": [
      "WARNING:tensorflow:Using a while_loop for converting IO>AudioResample\n"
     ]
    },
    {
     "name": "stderr",
     "output_type": "stream",
     "text": [
      "WARNING:tensorflow:Using a while_loop for converting IO>AudioResample\n"
     ]
    },
    {
     "name": "stdout",
     "output_type": "stream",
     "text": [
      "WARNING:tensorflow:Using a while_loop for converting IO>AudioResample\n"
     ]
    },
    {
     "name": "stderr",
     "output_type": "stream",
     "text": [
      "WARNING:tensorflow:Using a while_loop for converting IO>AudioResample\n"
     ]
    },
    {
     "name": "stdout",
     "output_type": "stream",
     "text": [
      "WARNING:tensorflow:Using a while_loop for converting IO>AudioResample\n"
     ]
    },
    {
     "name": "stderr",
     "output_type": "stream",
     "text": [
      "WARNING:tensorflow:Using a while_loop for converting IO>AudioResample\n"
     ]
    },
    {
     "name": "stdout",
     "output_type": "stream",
     "text": [
      "WARNING:tensorflow:Using a while_loop for converting IO>AudioResample\n"
     ]
    },
    {
     "name": "stderr",
     "output_type": "stream",
     "text": [
      "WARNING:tensorflow:Using a while_loop for converting IO>AudioResample\n"
     ]
    },
    {
     "name": "stdout",
     "output_type": "stream",
     "text": [
      "WARNING:tensorflow:Using a while_loop for converting IO>AudioResample\n"
     ]
    },
    {
     "name": "stderr",
     "output_type": "stream",
     "text": [
      "WARNING:tensorflow:Using a while_loop for converting IO>AudioResample\n"
     ]
    },
    {
     "name": "stdout",
     "output_type": "stream",
     "text": [
      "WARNING:tensorflow:Using a while_loop for converting IO>AudioResample\n"
     ]
    },
    {
     "name": "stderr",
     "output_type": "stream",
     "text": [
      "WARNING:tensorflow:Using a while_loop for converting IO>AudioResample\n"
     ]
    },
    {
     "name": "stdout",
     "output_type": "stream",
     "text": [
      "WARNING:tensorflow:Using a while_loop for converting IO>AudioResample\n"
     ]
    },
    {
     "name": "stderr",
     "output_type": "stream",
     "text": [
      "WARNING:tensorflow:Using a while_loop for converting IO>AudioResample\n"
     ]
    },
    {
     "name": "stdout",
     "output_type": "stream",
     "text": [
      "WARNING:tensorflow:Using a while_loop for converting IO>AudioResample\n"
     ]
    },
    {
     "name": "stderr",
     "output_type": "stream",
     "text": [
      "WARNING:tensorflow:Using a while_loop for converting IO>AudioResample\n"
     ]
    },
    {
     "name": "stdout",
     "output_type": "stream",
     "text": [
      "WARNING:tensorflow:Using a while_loop for converting IO>AudioResample\n"
     ]
    },
    {
     "name": "stderr",
     "output_type": "stream",
     "text": [
      "WARNING:tensorflow:Using a while_loop for converting IO>AudioResample\n"
     ]
    },
    {
     "name": "stdout",
     "output_type": "stream",
     "text": [
      "WARNING:tensorflow:Using a while_loop for converting IO>AudioResample\n"
     ]
    },
    {
     "name": "stderr",
     "output_type": "stream",
     "text": [
      "WARNING:tensorflow:Using a while_loop for converting IO>AudioResample\n"
     ]
    },
    {
     "name": "stdout",
     "output_type": "stream",
     "text": [
      "WARNING:tensorflow:Using a while_loop for converting IO>AudioResample\n"
     ]
    },
    {
     "name": "stderr",
     "output_type": "stream",
     "text": [
      "WARNING:tensorflow:Using a while_loop for converting IO>AudioResample\n"
     ]
    },
    {
     "name": "stdout",
     "output_type": "stream",
     "text": [
      "WARNING:tensorflow:Using a while_loop for converting IO>AudioResample\n"
     ]
    },
    {
     "name": "stderr",
     "output_type": "stream",
     "text": [
      "WARNING:tensorflow:Using a while_loop for converting IO>AudioResample\n"
     ]
    },
    {
     "name": "stdout",
     "output_type": "stream",
     "text": [
      "WARNING:tensorflow:Using a while_loop for converting IO>AudioResample\n"
     ]
    },
    {
     "name": "stderr",
     "output_type": "stream",
     "text": [
      "WARNING:tensorflow:Using a while_loop for converting IO>AudioResample\n"
     ]
    },
    {
     "name": "stdout",
     "output_type": "stream",
     "text": [
      "WARNING:tensorflow:Using a while_loop for converting IO>AudioResample\n"
     ]
    },
    {
     "name": "stderr",
     "output_type": "stream",
     "text": [
      "WARNING:tensorflow:Using a while_loop for converting IO>AudioResample\n"
     ]
    },
    {
     "name": "stdout",
     "output_type": "stream",
     "text": [
      "WARNING:tensorflow:Using a while_loop for converting IO>AudioResample\n"
     ]
    },
    {
     "name": "stderr",
     "output_type": "stream",
     "text": [
      "WARNING:tensorflow:Using a while_loop for converting IO>AudioResample\n"
     ]
    },
    {
     "name": "stdout",
     "output_type": "stream",
     "text": [
      "WARNING:tensorflow:Using a while_loop for converting IO>AudioResample\n"
     ]
    },
    {
     "name": "stderr",
     "output_type": "stream",
     "text": [
      "WARNING:tensorflow:Using a while_loop for converting IO>AudioResample\n"
     ]
    },
    {
     "name": "stdout",
     "output_type": "stream",
     "text": [
      "WARNING:tensorflow:Using a while_loop for converting IO>AudioResample\n"
     ]
    },
    {
     "name": "stderr",
     "output_type": "stream",
     "text": [
      "WARNING:tensorflow:Using a while_loop for converting IO>AudioResample\n"
     ]
    },
    {
     "name": "stdout",
     "output_type": "stream",
     "text": [
      "WARNING:tensorflow:Using a while_loop for converting IO>AudioResample\n"
     ]
    },
    {
     "name": "stderr",
     "output_type": "stream",
     "text": [
      "WARNING:tensorflow:Using a while_loop for converting IO>AudioResample\n"
     ]
    },
    {
     "name": "stdout",
     "output_type": "stream",
     "text": [
      "WARNING:tensorflow:Using a while_loop for converting IO>AudioResample\n"
     ]
    },
    {
     "name": "stderr",
     "output_type": "stream",
     "text": [
      "WARNING:tensorflow:Using a while_loop for converting IO>AudioResample\n"
     ]
    },
    {
     "name": "stdout",
     "output_type": "stream",
     "text": [
      "WARNING:tensorflow:Using a while_loop for converting IO>AudioResample\n"
     ]
    },
    {
     "name": "stderr",
     "output_type": "stream",
     "text": [
      "WARNING:tensorflow:Using a while_loop for converting IO>AudioResample\n"
     ]
    },
    {
     "name": "stdout",
     "output_type": "stream",
     "text": [
      "WARNING:tensorflow:Using a while_loop for converting IO>AudioResample\n"
     ]
    },
    {
     "name": "stderr",
     "output_type": "stream",
     "text": [
      "WARNING:tensorflow:Using a while_loop for converting IO>AudioResample\n"
     ]
    },
    {
     "name": "stdout",
     "output_type": "stream",
     "text": [
      "WARNING:tensorflow:Using a while_loop for converting IO>AudioResample\n"
     ]
    },
    {
     "name": "stderr",
     "output_type": "stream",
     "text": [
      "WARNING:tensorflow:Using a while_loop for converting IO>AudioResample\n"
     ]
    },
    {
     "name": "stdout",
     "output_type": "stream",
     "text": [
      "WARNING:tensorflow:Using a while_loop for converting IO>AudioResample\n"
     ]
    },
    {
     "name": "stderr",
     "output_type": "stream",
     "text": [
      "WARNING:tensorflow:Using a while_loop for converting IO>AudioResample\n"
     ]
    },
    {
     "name": "stdout",
     "output_type": "stream",
     "text": [
      "WARNING:tensorflow:Using a while_loop for converting IO>AudioResample\n"
     ]
    },
    {
     "name": "stderr",
     "output_type": "stream",
     "text": [
      "WARNING:tensorflow:Using a while_loop for converting IO>AudioResample\n"
     ]
    },
    {
     "name": "stdout",
     "output_type": "stream",
     "text": [
      "WARNING:tensorflow:Using a while_loop for converting IO>AudioResample\n"
     ]
    },
    {
     "name": "stderr",
     "output_type": "stream",
     "text": [
      "WARNING:tensorflow:Using a while_loop for converting IO>AudioResample\n"
     ]
    },
    {
     "name": "stdout",
     "output_type": "stream",
     "text": [
      "WARNING:tensorflow:Using a while_loop for converting IO>AudioResample\n"
     ]
    },
    {
     "name": "stderr",
     "output_type": "stream",
     "text": [
      "WARNING:tensorflow:Using a while_loop for converting IO>AudioResample\n"
     ]
    },
    {
     "name": "stdout",
     "output_type": "stream",
     "text": [
      "WARNING:tensorflow:Using a while_loop for converting IO>AudioResample\n"
     ]
    },
    {
     "name": "stderr",
     "output_type": "stream",
     "text": [
      "WARNING:tensorflow:Using a while_loop for converting IO>AudioResample\n"
     ]
    },
    {
     "name": "stdout",
     "output_type": "stream",
     "text": [
      "WARNING:tensorflow:Using a while_loop for converting IO>AudioResample\n"
     ]
    },
    {
     "name": "stderr",
     "output_type": "stream",
     "text": [
      "WARNING:tensorflow:Using a while_loop for converting IO>AudioResample\n"
     ]
    },
    {
     "name": "stdout",
     "output_type": "stream",
     "text": [
      "WARNING:tensorflow:Using a while_loop for converting IO>AudioResample\n"
     ]
    },
    {
     "name": "stderr",
     "output_type": "stream",
     "text": [
      "WARNING:tensorflow:Using a while_loop for converting IO>AudioResample\n"
     ]
    },
    {
     "name": "stdout",
     "output_type": "stream",
     "text": [
      "WARNING:tensorflow:Using a while_loop for converting IO>AudioResample\n"
     ]
    },
    {
     "name": "stderr",
     "output_type": "stream",
     "text": [
      "WARNING:tensorflow:Using a while_loop for converting IO>AudioResample\n"
     ]
    },
    {
     "name": "stdout",
     "output_type": "stream",
     "text": [
      "WARNING:tensorflow:Using a while_loop for converting IO>AudioResample\n"
     ]
    },
    {
     "name": "stderr",
     "output_type": "stream",
     "text": [
      "WARNING:tensorflow:Using a while_loop for converting IO>AudioResample\n"
     ]
    },
    {
     "name": "stdout",
     "output_type": "stream",
     "text": [
      "WARNING:tensorflow:Using a while_loop for converting IO>AudioResample\n"
     ]
    },
    {
     "name": "stderr",
     "output_type": "stream",
     "text": [
      "WARNING:tensorflow:Using a while_loop for converting IO>AudioResample\n"
     ]
    },
    {
     "name": "stdout",
     "output_type": "stream",
     "text": [
      "WARNING:tensorflow:Using a while_loop for converting IO>AudioResample\n"
     ]
    },
    {
     "name": "stderr",
     "output_type": "stream",
     "text": [
      "WARNING:tensorflow:Using a while_loop for converting IO>AudioResample\n"
     ]
    },
    {
     "name": "stdout",
     "output_type": "stream",
     "text": [
      "WARNING:tensorflow:Using a while_loop for converting IO>AudioResample\n"
     ]
    },
    {
     "name": "stderr",
     "output_type": "stream",
     "text": [
      "WARNING:tensorflow:Using a while_loop for converting IO>AudioResample\n"
     ]
    },
    {
     "name": "stdout",
     "output_type": "stream",
     "text": [
      "WARNING:tensorflow:Using a while_loop for converting IO>AudioResample\n"
     ]
    },
    {
     "name": "stderr",
     "output_type": "stream",
     "text": [
      "WARNING:tensorflow:Using a while_loop for converting IO>AudioResample\n"
     ]
    },
    {
     "name": "stdout",
     "output_type": "stream",
     "text": [
      "WARNING:tensorflow:Using a while_loop for converting IO>AudioResample\n"
     ]
    },
    {
     "name": "stderr",
     "output_type": "stream",
     "text": [
      "WARNING:tensorflow:Using a while_loop for converting IO>AudioResample\n"
     ]
    },
    {
     "name": "stdout",
     "output_type": "stream",
     "text": [
      "WARNING:tensorflow:Using a while_loop for converting IO>AudioResample\n"
     ]
    },
    {
     "name": "stderr",
     "output_type": "stream",
     "text": [
      "WARNING:tensorflow:Using a while_loop for converting IO>AudioResample\n"
     ]
    },
    {
     "name": "stdout",
     "output_type": "stream",
     "text": [
      "WARNING:tensorflow:Using a while_loop for converting IO>AudioResample\n"
     ]
    },
    {
     "name": "stderr",
     "output_type": "stream",
     "text": [
      "WARNING:tensorflow:Using a while_loop for converting IO>AudioResample\n"
     ]
    },
    {
     "name": "stdout",
     "output_type": "stream",
     "text": [
      "WARNING:tensorflow:Using a while_loop for converting IO>AudioResample\n"
     ]
    },
    {
     "name": "stderr",
     "output_type": "stream",
     "text": [
      "WARNING:tensorflow:Using a while_loop for converting IO>AudioResample\n"
     ]
    },
    {
     "name": "stdout",
     "output_type": "stream",
     "text": [
      "WARNING:tensorflow:Using a while_loop for converting IO>AudioResample\n"
     ]
    },
    {
     "name": "stderr",
     "output_type": "stream",
     "text": [
      "WARNING:tensorflow:Using a while_loop for converting IO>AudioResample\n"
     ]
    },
    {
     "name": "stdout",
     "output_type": "stream",
     "text": [
      "WARNING:tensorflow:Using a while_loop for converting IO>AudioResample\n"
     ]
    },
    {
     "name": "stderr",
     "output_type": "stream",
     "text": [
      "WARNING:tensorflow:Using a while_loop for converting IO>AudioResample\n"
     ]
    },
    {
     "name": "stdout",
     "output_type": "stream",
     "text": [
      "WARNING:tensorflow:Using a while_loop for converting IO>AudioResample\n"
     ]
    },
    {
     "name": "stderr",
     "output_type": "stream",
     "text": [
      "WARNING:tensorflow:Using a while_loop for converting IO>AudioResample\n"
     ]
    },
    {
     "name": "stdout",
     "output_type": "stream",
     "text": [
      "WARNING:tensorflow:Using a while_loop for converting IO>AudioResample\n"
     ]
    },
    {
     "name": "stderr",
     "output_type": "stream",
     "text": [
      "WARNING:tensorflow:Using a while_loop for converting IO>AudioResample\n"
     ]
    },
    {
     "name": "stdout",
     "output_type": "stream",
     "text": [
      "WARNING:tensorflow:Using a while_loop for converting IO>AudioResample\n"
     ]
    },
    {
     "name": "stderr",
     "output_type": "stream",
     "text": [
      "WARNING:tensorflow:Using a while_loop for converting IO>AudioResample\n"
     ]
    },
    {
     "name": "stdout",
     "output_type": "stream",
     "text": [
      "WARNING:tensorflow:Using a while_loop for converting IO>AudioResample\n"
     ]
    },
    {
     "name": "stderr",
     "output_type": "stream",
     "text": [
      "WARNING:tensorflow:Using a while_loop for converting IO>AudioResample\n"
     ]
    },
    {
     "name": "stdout",
     "output_type": "stream",
     "text": [
      "WARNING:tensorflow:Using a while_loop for converting IO>AudioResample\n"
     ]
    },
    {
     "name": "stderr",
     "output_type": "stream",
     "text": [
      "WARNING:tensorflow:Using a while_loop for converting IO>AudioResample\n"
     ]
    },
    {
     "name": "stdout",
     "output_type": "stream",
     "text": [
      "WARNING:tensorflow:Using a while_loop for converting IO>AudioResample\n"
     ]
    },
    {
     "name": "stderr",
     "output_type": "stream",
     "text": [
      "WARNING:tensorflow:Using a while_loop for converting IO>AudioResample\n"
     ]
    },
    {
     "name": "stdout",
     "output_type": "stream",
     "text": [
      "WARNING:tensorflow:Using a while_loop for converting IO>AudioResample\n"
     ]
    },
    {
     "name": "stderr",
     "output_type": "stream",
     "text": [
      "WARNING:tensorflow:Using a while_loop for converting IO>AudioResample\n"
     ]
    },
    {
     "name": "stdout",
     "output_type": "stream",
     "text": [
      "WARNING:tensorflow:Using a while_loop for converting IO>AudioResample\n"
     ]
    },
    {
     "name": "stderr",
     "output_type": "stream",
     "text": [
      "WARNING:tensorflow:Using a while_loop for converting IO>AudioResample\n"
     ]
    },
    {
     "name": "stdout",
     "output_type": "stream",
     "text": [
      "WARNING:tensorflow:Using a while_loop for converting IO>AudioResample\n"
     ]
    },
    {
     "name": "stderr",
     "output_type": "stream",
     "text": [
      "WARNING:tensorflow:Using a while_loop for converting IO>AudioResample\n"
     ]
    },
    {
     "name": "stdout",
     "output_type": "stream",
     "text": [
      "WARNING:tensorflow:Using a while_loop for converting IO>AudioResample\n"
     ]
    },
    {
     "name": "stderr",
     "output_type": "stream",
     "text": [
      "WARNING:tensorflow:Using a while_loop for converting IO>AudioResample\n"
     ]
    },
    {
     "name": "stdout",
     "output_type": "stream",
     "text": [
      "WARNING:tensorflow:Using a while_loop for converting IO>AudioResample\n"
     ]
    },
    {
     "name": "stderr",
     "output_type": "stream",
     "text": [
      "WARNING:tensorflow:Using a while_loop for converting IO>AudioResample\n"
     ]
    },
    {
     "name": "stdout",
     "output_type": "stream",
     "text": [
      "WARNING:tensorflow:Using a while_loop for converting IO>AudioResample\n"
     ]
    },
    {
     "name": "stderr",
     "output_type": "stream",
     "text": [
      "WARNING:tensorflow:Using a while_loop for converting IO>AudioResample\n"
     ]
    },
    {
     "name": "stdout",
     "output_type": "stream",
     "text": [
      "WARNING:tensorflow:Using a while_loop for converting IO>AudioResample\n"
     ]
    },
    {
     "name": "stderr",
     "output_type": "stream",
     "text": [
      "WARNING:tensorflow:Using a while_loop for converting IO>AudioResample\n"
     ]
    },
    {
     "name": "stdout",
     "output_type": "stream",
     "text": [
      "WARNING:tensorflow:Using a while_loop for converting IO>AudioResample\n"
     ]
    },
    {
     "name": "stderr",
     "output_type": "stream",
     "text": [
      "WARNING:tensorflow:Using a while_loop for converting IO>AudioResample\n"
     ]
    },
    {
     "name": "stdout",
     "output_type": "stream",
     "text": [
      "WARNING:tensorflow:Using a while_loop for converting IO>AudioResample\n"
     ]
    },
    {
     "name": "stderr",
     "output_type": "stream",
     "text": [
      "WARNING:tensorflow:Using a while_loop for converting IO>AudioResample\n"
     ]
    },
    {
     "name": "stdout",
     "output_type": "stream",
     "text": [
      "WARNING:tensorflow:Using a while_loop for converting IO>AudioResample\n"
     ]
    },
    {
     "name": "stderr",
     "output_type": "stream",
     "text": [
      "WARNING:tensorflow:Using a while_loop for converting IO>AudioResample\n"
     ]
    },
    {
     "name": "stdout",
     "output_type": "stream",
     "text": [
      "WARNING:tensorflow:Using a while_loop for converting IO>AudioResample\n"
     ]
    },
    {
     "name": "stderr",
     "output_type": "stream",
     "text": [
      "WARNING:tensorflow:Using a while_loop for converting IO>AudioResample\n"
     ]
    },
    {
     "name": "stdout",
     "output_type": "stream",
     "text": [
      "WARNING:tensorflow:Using a while_loop for converting IO>AudioResample\n"
     ]
    },
    {
     "name": "stderr",
     "output_type": "stream",
     "text": [
      "WARNING:tensorflow:Using a while_loop for converting IO>AudioResample\n"
     ]
    },
    {
     "name": "stdout",
     "output_type": "stream",
     "text": [
      "WARNING:tensorflow:Using a while_loop for converting IO>AudioResample\n"
     ]
    },
    {
     "name": "stderr",
     "output_type": "stream",
     "text": [
      "WARNING:tensorflow:Using a while_loop for converting IO>AudioResample\n"
     ]
    },
    {
     "name": "stdout",
     "output_type": "stream",
     "text": [
      "WARNING:tensorflow:Using a while_loop for converting IO>AudioResample\n"
     ]
    },
    {
     "name": "stderr",
     "output_type": "stream",
     "text": [
      "WARNING:tensorflow:Using a while_loop for converting IO>AudioResample\n"
     ]
    },
    {
     "name": "stdout",
     "output_type": "stream",
     "text": [
      "WARNING:tensorflow:Using a while_loop for converting IO>AudioResample\n"
     ]
    },
    {
     "name": "stderr",
     "output_type": "stream",
     "text": [
      "WARNING:tensorflow:Using a while_loop for converting IO>AudioResample\n"
     ]
    },
    {
     "name": "stdout",
     "output_type": "stream",
     "text": [
      "WARNING:tensorflow:Using a while_loop for converting IO>AudioResample\n"
     ]
    },
    {
     "name": "stderr",
     "output_type": "stream",
     "text": [
      "WARNING:tensorflow:Using a while_loop for converting IO>AudioResample\n"
     ]
    },
    {
     "name": "stdout",
     "output_type": "stream",
     "text": [
      "WARNING:tensorflow:Using a while_loop for converting IO>AudioResample\n"
     ]
    },
    {
     "name": "stderr",
     "output_type": "stream",
     "text": [
      "WARNING:tensorflow:Using a while_loop for converting IO>AudioResample\n"
     ]
    },
    {
     "name": "stdout",
     "output_type": "stream",
     "text": [
      "WARNING:tensorflow:Using a while_loop for converting IO>AudioResample\n"
     ]
    },
    {
     "name": "stderr",
     "output_type": "stream",
     "text": [
      "WARNING:tensorflow:Using a while_loop for converting IO>AudioResample\n"
     ]
    },
    {
     "name": "stdout",
     "output_type": "stream",
     "text": [
      "WARNING:tensorflow:Using a while_loop for converting IO>AudioResample\n"
     ]
    },
    {
     "name": "stderr",
     "output_type": "stream",
     "text": [
      "WARNING:tensorflow:Using a while_loop for converting IO>AudioResample\n"
     ]
    },
    {
     "name": "stdout",
     "output_type": "stream",
     "text": [
      "WARNING:tensorflow:Using a while_loop for converting IO>AudioResample\n"
     ]
    },
    {
     "name": "stderr",
     "output_type": "stream",
     "text": [
      "WARNING:tensorflow:Using a while_loop for converting IO>AudioResample\n"
     ]
    },
    {
     "name": "stdout",
     "output_type": "stream",
     "text": [
      "WARNING:tensorflow:Using a while_loop for converting IO>AudioResample\n"
     ]
    },
    {
     "name": "stderr",
     "output_type": "stream",
     "text": [
      "WARNING:tensorflow:Using a while_loop for converting IO>AudioResample\n"
     ]
    },
    {
     "name": "stdout",
     "output_type": "stream",
     "text": [
      "WARNING:tensorflow:Using a while_loop for converting IO>AudioResample\n"
     ]
    },
    {
     "name": "stderr",
     "output_type": "stream",
     "text": [
      "WARNING:tensorflow:Using a while_loop for converting IO>AudioResample\n"
     ]
    },
    {
     "name": "stdout",
     "output_type": "stream",
     "text": [
      "WARNING:tensorflow:Using a while_loop for converting IO>AudioResample\n"
     ]
    },
    {
     "name": "stderr",
     "output_type": "stream",
     "text": [
      "WARNING:tensorflow:Using a while_loop for converting IO>AudioResample\n"
     ]
    },
    {
     "name": "stdout",
     "output_type": "stream",
     "text": [
      "WARNING:tensorflow:Using a while_loop for converting IO>AudioResample\n"
     ]
    },
    {
     "name": "stderr",
     "output_type": "stream",
     "text": [
      "WARNING:tensorflow:Using a while_loop for converting IO>AudioResample\n"
     ]
    },
    {
     "name": "stdout",
     "output_type": "stream",
     "text": [
      "WARNING:tensorflow:Using a while_loop for converting IO>AudioResample\n"
     ]
    },
    {
     "name": "stderr",
     "output_type": "stream",
     "text": [
      "WARNING:tensorflow:Using a while_loop for converting IO>AudioResample\n"
     ]
    },
    {
     "name": "stdout",
     "output_type": "stream",
     "text": [
      "WARNING:tensorflow:Using a while_loop for converting IO>AudioResample\n"
     ]
    },
    {
     "name": "stderr",
     "output_type": "stream",
     "text": [
      "WARNING:tensorflow:Using a while_loop for converting IO>AudioResample\n"
     ]
    },
    {
     "name": "stdout",
     "output_type": "stream",
     "text": [
      "WARNING:tensorflow:Using a while_loop for converting IO>AudioResample\n"
     ]
    },
    {
     "name": "stderr",
     "output_type": "stream",
     "text": [
      "WARNING:tensorflow:Using a while_loop for converting IO>AudioResample\n"
     ]
    }
   ],
   "source": [
    "test_audio = []\n",
    "test_labels = []\n",
    "\n",
    "for _, row in test_pd.iterrows():\n",
    "    test_audio.append(load_wav_16k_mono(row[\"file_name\"]))\n",
    "    test_labels.append(row['label'])\n",
    "    \n",
    "\n",
    "y_pred=[]\n",
    "for test_sound in test_audio:\n",
    "    y_pred.append(reloaded_model(test_sound))\n",
    "y_pred = np.argmax(y_pred, axis=1)\n",
    "\n",
    "\n",
    "y_true = test_labels\n",
    "\n",
    "test_acc = sum(y_pred == y_true) / len(y_true)\n",
    "print(f'Test set accuracy: {test_acc:.0%}')"
   ]
  },
  {
   "cell_type": "code",
   "execution_count": 22,
   "metadata": {},
   "outputs": [
    {
     "ename": "NameError",
     "evalue": "name 'y_true' is not defined",
     "output_type": "error",
     "traceback": [
      "\u001b[1;31m---------------------------------------------------------------------------\u001b[0m",
      "\u001b[1;31mNameError\u001b[0m                                 Traceback (most recent call last)",
      "\u001b[1;32m<ipython-input-22-ba30383dd1c4>\u001b[0m in \u001b[0;36m<module>\u001b[1;34m\u001b[0m\n\u001b[1;32m----> 1\u001b[1;33m \u001b[0mconfusion_mtx\u001b[0m \u001b[1;33m=\u001b[0m \u001b[0mtf\u001b[0m\u001b[1;33m.\u001b[0m\u001b[0mmath\u001b[0m\u001b[1;33m.\u001b[0m\u001b[0mconfusion_matrix\u001b[0m\u001b[1;33m(\u001b[0m\u001b[0my_true\u001b[0m\u001b[1;33m,\u001b[0m \u001b[0my_pred\u001b[0m\u001b[1;33m)\u001b[0m\u001b[1;33m\u001b[0m\u001b[1;33m\u001b[0m\u001b[0m\n\u001b[0m\u001b[0;32m      2\u001b[0m \u001b[0mplt\u001b[0m\u001b[1;33m.\u001b[0m\u001b[0mfigure\u001b[0m\u001b[1;33m(\u001b[0m\u001b[0mfigsize\u001b[0m\u001b[1;33m=\u001b[0m\u001b[1;33m(\u001b[0m\u001b[1;36m10\u001b[0m\u001b[1;33m,\u001b[0m \u001b[1;36m8\u001b[0m\u001b[1;33m)\u001b[0m\u001b[1;33m)\u001b[0m\u001b[1;33m\u001b[0m\u001b[1;33m\u001b[0m\u001b[0m\n\u001b[0;32m      3\u001b[0m sns.heatmap(confusion_mtx, xticklabels=my_classes, yticklabels=my_classes, \n\u001b[0;32m      4\u001b[0m             annot=True, fmt='g')\n\u001b[0;32m      5\u001b[0m \u001b[0mplt\u001b[0m\u001b[1;33m.\u001b[0m\u001b[0mxlabel\u001b[0m\u001b[1;33m(\u001b[0m\u001b[1;34m'Prediction'\u001b[0m\u001b[1;33m)\u001b[0m\u001b[1;33m\u001b[0m\u001b[1;33m\u001b[0m\u001b[0m\n",
      "\u001b[1;31mNameError\u001b[0m: name 'y_true' is not defined"
     ]
    }
   ],
   "source": [
    "confusion_mtx = tf.math.confusion_matrix(y_true, y_pred) \n",
    "plt.figure(figsize=(10, 8))\n",
    "sns.heatmap(confusion_mtx, xticklabels=my_classes, yticklabels=my_classes, \n",
    "            annot=True, fmt='g')\n",
    "plt.xlabel('Prediction')\n",
    "plt.ylabel('Label')\n",
    "plt.show()"
   ]
  },
  {
   "cell_type": "code",
   "execution_count": null,
   "metadata": {},
   "outputs": [],
   "source": []
  }
 ],
 "metadata": {
  "kernelspec": {
   "display_name": "Python 3",
   "language": "python",
   "name": "python3"
  },
  "language_info": {
   "codemirror_mode": {
    "name": "ipython",
    "version": 3
   },
   "file_extension": ".py",
   "mimetype": "text/x-python",
   "name": "python",
   "nbconvert_exporter": "python",
   "pygments_lexer": "ipython3",
   "version": "3.8.5"
  }
 },
 "nbformat": 4,
 "nbformat_minor": 4
}
